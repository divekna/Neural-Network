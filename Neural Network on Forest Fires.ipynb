{
 "cells": [
  {
   "cell_type": "markdown",
   "id": "fceafcf7",
   "metadata": {},
   "source": [
    "## Importing necessary libraries "
   ]
  },
  {
   "cell_type": "code",
   "execution_count": 31,
   "id": "46c64492",
   "metadata": {},
   "outputs": [],
   "source": [
    "import pandas as pd \n",
    "from sklearn.preprocessing import LabelEncoder\n",
    "from sklearn.preprocessing import StandardScaler\n",
    "from sklearn.model_selection import train_test_split\n",
    "import numpy\n",
    "import matplotlib.pyplot as plt"
   ]
  },
  {
   "cell_type": "markdown",
   "id": "8fc59ce0",
   "metadata": {},
   "source": [
    "## Importing dataset"
   ]
  },
  {
   "cell_type": "code",
   "execution_count": 2,
   "id": "ed5b9f3e",
   "metadata": {},
   "outputs": [
    {
     "data": {
      "text/html": [
       "<div>\n",
       "<style scoped>\n",
       "    .dataframe tbody tr th:only-of-type {\n",
       "        vertical-align: middle;\n",
       "    }\n",
       "\n",
       "    .dataframe tbody tr th {\n",
       "        vertical-align: top;\n",
       "    }\n",
       "\n",
       "    .dataframe thead th {\n",
       "        text-align: right;\n",
       "    }\n",
       "</style>\n",
       "<table border=\"1\" class=\"dataframe\">\n",
       "  <thead>\n",
       "    <tr style=\"text-align: right;\">\n",
       "      <th></th>\n",
       "      <th>month</th>\n",
       "      <th>day</th>\n",
       "      <th>FFMC</th>\n",
       "      <th>DMC</th>\n",
       "      <th>DC</th>\n",
       "      <th>ISI</th>\n",
       "      <th>temp</th>\n",
       "      <th>RH</th>\n",
       "      <th>wind</th>\n",
       "      <th>rain</th>\n",
       "      <th>...</th>\n",
       "      <th>monthfeb</th>\n",
       "      <th>monthjan</th>\n",
       "      <th>monthjul</th>\n",
       "      <th>monthjun</th>\n",
       "      <th>monthmar</th>\n",
       "      <th>monthmay</th>\n",
       "      <th>monthnov</th>\n",
       "      <th>monthoct</th>\n",
       "      <th>monthsep</th>\n",
       "      <th>size_category</th>\n",
       "    </tr>\n",
       "  </thead>\n",
       "  <tbody>\n",
       "    <tr>\n",
       "      <th>0</th>\n",
       "      <td>mar</td>\n",
       "      <td>fri</td>\n",
       "      <td>86.2</td>\n",
       "      <td>26.2</td>\n",
       "      <td>94.3</td>\n",
       "      <td>5.1</td>\n",
       "      <td>8.2</td>\n",
       "      <td>51</td>\n",
       "      <td>6.7</td>\n",
       "      <td>0.0</td>\n",
       "      <td>...</td>\n",
       "      <td>0</td>\n",
       "      <td>0</td>\n",
       "      <td>0</td>\n",
       "      <td>0</td>\n",
       "      <td>1</td>\n",
       "      <td>0</td>\n",
       "      <td>0</td>\n",
       "      <td>0</td>\n",
       "      <td>0</td>\n",
       "      <td>small</td>\n",
       "    </tr>\n",
       "    <tr>\n",
       "      <th>1</th>\n",
       "      <td>oct</td>\n",
       "      <td>tue</td>\n",
       "      <td>90.6</td>\n",
       "      <td>35.4</td>\n",
       "      <td>669.1</td>\n",
       "      <td>6.7</td>\n",
       "      <td>18.0</td>\n",
       "      <td>33</td>\n",
       "      <td>0.9</td>\n",
       "      <td>0.0</td>\n",
       "      <td>...</td>\n",
       "      <td>0</td>\n",
       "      <td>0</td>\n",
       "      <td>0</td>\n",
       "      <td>0</td>\n",
       "      <td>0</td>\n",
       "      <td>0</td>\n",
       "      <td>0</td>\n",
       "      <td>1</td>\n",
       "      <td>0</td>\n",
       "      <td>small</td>\n",
       "    </tr>\n",
       "    <tr>\n",
       "      <th>2</th>\n",
       "      <td>oct</td>\n",
       "      <td>sat</td>\n",
       "      <td>90.6</td>\n",
       "      <td>43.7</td>\n",
       "      <td>686.9</td>\n",
       "      <td>6.7</td>\n",
       "      <td>14.6</td>\n",
       "      <td>33</td>\n",
       "      <td>1.3</td>\n",
       "      <td>0.0</td>\n",
       "      <td>...</td>\n",
       "      <td>0</td>\n",
       "      <td>0</td>\n",
       "      <td>0</td>\n",
       "      <td>0</td>\n",
       "      <td>0</td>\n",
       "      <td>0</td>\n",
       "      <td>0</td>\n",
       "      <td>1</td>\n",
       "      <td>0</td>\n",
       "      <td>small</td>\n",
       "    </tr>\n",
       "    <tr>\n",
       "      <th>3</th>\n",
       "      <td>mar</td>\n",
       "      <td>fri</td>\n",
       "      <td>91.7</td>\n",
       "      <td>33.3</td>\n",
       "      <td>77.5</td>\n",
       "      <td>9.0</td>\n",
       "      <td>8.3</td>\n",
       "      <td>97</td>\n",
       "      <td>4.0</td>\n",
       "      <td>0.2</td>\n",
       "      <td>...</td>\n",
       "      <td>0</td>\n",
       "      <td>0</td>\n",
       "      <td>0</td>\n",
       "      <td>0</td>\n",
       "      <td>1</td>\n",
       "      <td>0</td>\n",
       "      <td>0</td>\n",
       "      <td>0</td>\n",
       "      <td>0</td>\n",
       "      <td>small</td>\n",
       "    </tr>\n",
       "    <tr>\n",
       "      <th>4</th>\n",
       "      <td>mar</td>\n",
       "      <td>sun</td>\n",
       "      <td>89.3</td>\n",
       "      <td>51.3</td>\n",
       "      <td>102.2</td>\n",
       "      <td>9.6</td>\n",
       "      <td>11.4</td>\n",
       "      <td>99</td>\n",
       "      <td>1.8</td>\n",
       "      <td>0.0</td>\n",
       "      <td>...</td>\n",
       "      <td>0</td>\n",
       "      <td>0</td>\n",
       "      <td>0</td>\n",
       "      <td>0</td>\n",
       "      <td>1</td>\n",
       "      <td>0</td>\n",
       "      <td>0</td>\n",
       "      <td>0</td>\n",
       "      <td>0</td>\n",
       "      <td>small</td>\n",
       "    </tr>\n",
       "  </tbody>\n",
       "</table>\n",
       "<p>5 rows × 31 columns</p>\n",
       "</div>"
      ],
      "text/plain": [
       "  month  day  FFMC   DMC     DC  ISI  temp  RH  wind  rain  ...  monthfeb  \\\n",
       "0   mar  fri  86.2  26.2   94.3  5.1   8.2  51   6.7   0.0  ...         0   \n",
       "1   oct  tue  90.6  35.4  669.1  6.7  18.0  33   0.9   0.0  ...         0   \n",
       "2   oct  sat  90.6  43.7  686.9  6.7  14.6  33   1.3   0.0  ...         0   \n",
       "3   mar  fri  91.7  33.3   77.5  9.0   8.3  97   4.0   0.2  ...         0   \n",
       "4   mar  sun  89.3  51.3  102.2  9.6  11.4  99   1.8   0.0  ...         0   \n",
       "\n",
       "   monthjan  monthjul  monthjun  monthmar  monthmay  monthnov  monthoct  \\\n",
       "0         0         0         0         1         0         0         0   \n",
       "1         0         0         0         0         0         0         1   \n",
       "2         0         0         0         0         0         0         1   \n",
       "3         0         0         0         1         0         0         0   \n",
       "4         0         0         0         1         0         0         0   \n",
       "\n",
       "   monthsep  size_category  \n",
       "0         0          small  \n",
       "1         0          small  \n",
       "2         0          small  \n",
       "3         0          small  \n",
       "4         0          small  \n",
       "\n",
       "[5 rows x 31 columns]"
      ]
     },
     "execution_count": 2,
     "metadata": {},
     "output_type": "execute_result"
    }
   ],
   "source": [
    "# fix random seed for reproducibility\n",
    "seed = 7\n",
    "numpy.random.seed(seed)\n",
    "\n",
    "data = pd.read_csv('forestfires (1).csv',sep=',')\n",
    "data.head()"
   ]
  },
  {
   "cell_type": "markdown",
   "id": "b67b504e",
   "metadata": {},
   "source": [
    "## Data Exploration"
   ]
  },
  {
   "cell_type": "code",
   "execution_count": 3,
   "id": "6fcf2234",
   "metadata": {},
   "outputs": [
    {
     "data": {
      "text/plain": [
       "(517, 31)"
      ]
     },
     "execution_count": 3,
     "metadata": {},
     "output_type": "execute_result"
    }
   ],
   "source": [
    "data.shape"
   ]
  },
  {
   "cell_type": "code",
   "execution_count": 4,
   "id": "b9d84a26",
   "metadata": {},
   "outputs": [
    {
     "data": {
      "text/plain": [
       "Index(['month', 'day', 'FFMC', 'DMC', 'DC', 'ISI', 'temp', 'RH', 'wind',\n",
       "       'rain', 'area', 'dayfri', 'daymon', 'daysat', 'daysun', 'daythu',\n",
       "       'daytue', 'daywed', 'monthapr', 'monthaug', 'monthdec', 'monthfeb',\n",
       "       'monthjan', 'monthjul', 'monthjun', 'monthmar', 'monthmay', 'monthnov',\n",
       "       'monthoct', 'monthsep', 'size_category'],\n",
       "      dtype='object')"
      ]
     },
     "execution_count": 4,
     "metadata": {},
     "output_type": "execute_result"
    }
   ],
   "source": [
    "data.columns"
   ]
  },
  {
   "cell_type": "code",
   "execution_count": 5,
   "id": "37291af0",
   "metadata": {},
   "outputs": [
    {
     "data": {
      "text/plain": [
       "array(['mar', 'oct', 'aug', 'sep', 'apr', 'jun', 'jul', 'feb', 'jan',\n",
       "       'dec', 'may', 'nov'], dtype=object)"
      ]
     },
     "execution_count": 5,
     "metadata": {},
     "output_type": "execute_result"
    }
   ],
   "source": [
    "data.month.unique()"
   ]
  },
  {
   "cell_type": "code",
   "execution_count": 6,
   "id": "09df994f",
   "metadata": {},
   "outputs": [
    {
     "data": {
      "text/plain": [
       "array(['fri', 'tue', 'sat', 'sun', 'mon', 'wed', 'thu'], dtype=object)"
      ]
     },
     "execution_count": 6,
     "metadata": {},
     "output_type": "execute_result"
    }
   ],
   "source": [
    "data.day.unique()"
   ]
  },
  {
   "cell_type": "code",
   "execution_count": 7,
   "id": "a77fda49",
   "metadata": {},
   "outputs": [
    {
     "data": {
      "text/plain": [
       "month            0\n",
       "day              0\n",
       "FFMC             0\n",
       "DMC              0\n",
       "DC               0\n",
       "ISI              0\n",
       "temp             0\n",
       "RH               0\n",
       "wind             0\n",
       "rain             0\n",
       "area             0\n",
       "dayfri           0\n",
       "daymon           0\n",
       "daysat           0\n",
       "daysun           0\n",
       "daythu           0\n",
       "daytue           0\n",
       "daywed           0\n",
       "monthapr         0\n",
       "monthaug         0\n",
       "monthdec         0\n",
       "monthfeb         0\n",
       "monthjan         0\n",
       "monthjul         0\n",
       "monthjun         0\n",
       "monthmar         0\n",
       "monthmay         0\n",
       "monthnov         0\n",
       "monthoct         0\n",
       "monthsep         0\n",
       "size_category    0\n",
       "dtype: int64"
      ]
     },
     "execution_count": 7,
     "metadata": {},
     "output_type": "execute_result"
    }
   ],
   "source": [
    "data.isnull().sum()"
   ]
  },
  {
   "cell_type": "code",
   "execution_count": 8,
   "id": "5dd12da8",
   "metadata": {},
   "outputs": [
    {
     "data": {
      "text/plain": [
       "month             object\n",
       "day               object\n",
       "FFMC             float64\n",
       "DMC              float64\n",
       "DC               float64\n",
       "ISI              float64\n",
       "temp             float64\n",
       "RH                 int64\n",
       "wind             float64\n",
       "rain             float64\n",
       "area             float64\n",
       "dayfri             int64\n",
       "daymon             int64\n",
       "daysat             int64\n",
       "daysun             int64\n",
       "daythu             int64\n",
       "daytue             int64\n",
       "daywed             int64\n",
       "monthapr           int64\n",
       "monthaug           int64\n",
       "monthdec           int64\n",
       "monthfeb           int64\n",
       "monthjan           int64\n",
       "monthjul           int64\n",
       "monthjun           int64\n",
       "monthmar           int64\n",
       "monthmay           int64\n",
       "monthnov           int64\n",
       "monthoct           int64\n",
       "monthsep           int64\n",
       "size_category     object\n",
       "dtype: object"
      ]
     },
     "execution_count": 8,
     "metadata": {},
     "output_type": "execute_result"
    }
   ],
   "source": [
    "data.dtypes"
   ]
  },
  {
   "cell_type": "markdown",
   "id": "f41606f8",
   "metadata": {},
   "source": [
    "## Data Preparation"
   ]
  },
  {
   "cell_type": "code",
   "execution_count": 9,
   "id": "5e52c64e",
   "metadata": {},
   "outputs": [],
   "source": [
    "# As dummy variables are already created for month and day column, we can remove that column\n",
    "data.drop(['month','day'],axis=1,inplace=True)"
   ]
  },
  {
   "cell_type": "code",
   "execution_count": 10,
   "id": "76518111",
   "metadata": {},
   "outputs": [
    {
     "data": {
      "text/plain": [
       "array(['small', 'large'], dtype=object)"
      ]
     },
     "execution_count": 10,
     "metadata": {},
     "output_type": "execute_result"
    }
   ],
   "source": [
    "data.size_category.unique()"
   ]
  },
  {
   "cell_type": "code",
   "execution_count": 11,
   "id": "139c7c79",
   "metadata": {},
   "outputs": [],
   "source": [
    "le = LabelEncoder()\n",
    "data['size_category'] = le.fit_transform(data['size_category'])"
   ]
  },
  {
   "cell_type": "code",
   "execution_count": 12,
   "id": "5c419e1c",
   "metadata": {},
   "outputs": [
    {
     "data": {
      "text/plain": [
       "FFMC             float64\n",
       "DMC              float64\n",
       "DC               float64\n",
       "ISI              float64\n",
       "temp             float64\n",
       "RH                 int64\n",
       "wind             float64\n",
       "rain             float64\n",
       "area             float64\n",
       "dayfri             int64\n",
       "daymon             int64\n",
       "daysat             int64\n",
       "daysun             int64\n",
       "daythu             int64\n",
       "daytue             int64\n",
       "daywed             int64\n",
       "monthapr           int64\n",
       "monthaug           int64\n",
       "monthdec           int64\n",
       "monthfeb           int64\n",
       "monthjan           int64\n",
       "monthjul           int64\n",
       "monthjun           int64\n",
       "monthmar           int64\n",
       "monthmay           int64\n",
       "monthnov           int64\n",
       "monthoct           int64\n",
       "monthsep           int64\n",
       "size_category      int32\n",
       "dtype: object"
      ]
     },
     "execution_count": 12,
     "metadata": {},
     "output_type": "execute_result"
    }
   ],
   "source": [
    "data.dtypes"
   ]
  },
  {
   "cell_type": "code",
   "execution_count": 13,
   "id": "a5cfb8b1",
   "metadata": {},
   "outputs": [
    {
     "data": {
      "text/plain": [
       "array([1, 0])"
      ]
     },
     "execution_count": 13,
     "metadata": {},
     "output_type": "execute_result"
    }
   ],
   "source": [
    "data.size_category.unique()"
   ]
  },
  {
   "cell_type": "code",
   "execution_count": 14,
   "id": "efa6d135",
   "metadata": {},
   "outputs": [
    {
     "data": {
      "text/html": [
       "<div>\n",
       "<style scoped>\n",
       "    .dataframe tbody tr th:only-of-type {\n",
       "        vertical-align: middle;\n",
       "    }\n",
       "\n",
       "    .dataframe tbody tr th {\n",
       "        vertical-align: top;\n",
       "    }\n",
       "\n",
       "    .dataframe thead th {\n",
       "        text-align: right;\n",
       "    }\n",
       "</style>\n",
       "<table border=\"1\" class=\"dataframe\">\n",
       "  <thead>\n",
       "    <tr style=\"text-align: right;\">\n",
       "      <th></th>\n",
       "      <th>FFMC</th>\n",
       "      <th>DMC</th>\n",
       "      <th>DC</th>\n",
       "      <th>ISI</th>\n",
       "      <th>temp</th>\n",
       "      <th>RH</th>\n",
       "      <th>wind</th>\n",
       "      <th>rain</th>\n",
       "      <th>area</th>\n",
       "      <th>dayfri</th>\n",
       "      <th>...</th>\n",
       "      <th>monthfeb</th>\n",
       "      <th>monthjan</th>\n",
       "      <th>monthjul</th>\n",
       "      <th>monthjun</th>\n",
       "      <th>monthmar</th>\n",
       "      <th>monthmay</th>\n",
       "      <th>monthnov</th>\n",
       "      <th>monthoct</th>\n",
       "      <th>monthsep</th>\n",
       "      <th>size_category</th>\n",
       "    </tr>\n",
       "  </thead>\n",
       "  <tbody>\n",
       "    <tr>\n",
       "      <th>0</th>\n",
       "      <td>86.2</td>\n",
       "      <td>26.2</td>\n",
       "      <td>94.3</td>\n",
       "      <td>5.1</td>\n",
       "      <td>8.2</td>\n",
       "      <td>51</td>\n",
       "      <td>6.7</td>\n",
       "      <td>0.0</td>\n",
       "      <td>0.0</td>\n",
       "      <td>1</td>\n",
       "      <td>...</td>\n",
       "      <td>0</td>\n",
       "      <td>0</td>\n",
       "      <td>0</td>\n",
       "      <td>0</td>\n",
       "      <td>1</td>\n",
       "      <td>0</td>\n",
       "      <td>0</td>\n",
       "      <td>0</td>\n",
       "      <td>0</td>\n",
       "      <td>1</td>\n",
       "    </tr>\n",
       "    <tr>\n",
       "      <th>1</th>\n",
       "      <td>90.6</td>\n",
       "      <td>35.4</td>\n",
       "      <td>669.1</td>\n",
       "      <td>6.7</td>\n",
       "      <td>18.0</td>\n",
       "      <td>33</td>\n",
       "      <td>0.9</td>\n",
       "      <td>0.0</td>\n",
       "      <td>0.0</td>\n",
       "      <td>0</td>\n",
       "      <td>...</td>\n",
       "      <td>0</td>\n",
       "      <td>0</td>\n",
       "      <td>0</td>\n",
       "      <td>0</td>\n",
       "      <td>0</td>\n",
       "      <td>0</td>\n",
       "      <td>0</td>\n",
       "      <td>1</td>\n",
       "      <td>0</td>\n",
       "      <td>1</td>\n",
       "    </tr>\n",
       "    <tr>\n",
       "      <th>2</th>\n",
       "      <td>90.6</td>\n",
       "      <td>43.7</td>\n",
       "      <td>686.9</td>\n",
       "      <td>6.7</td>\n",
       "      <td>14.6</td>\n",
       "      <td>33</td>\n",
       "      <td>1.3</td>\n",
       "      <td>0.0</td>\n",
       "      <td>0.0</td>\n",
       "      <td>0</td>\n",
       "      <td>...</td>\n",
       "      <td>0</td>\n",
       "      <td>0</td>\n",
       "      <td>0</td>\n",
       "      <td>0</td>\n",
       "      <td>0</td>\n",
       "      <td>0</td>\n",
       "      <td>0</td>\n",
       "      <td>1</td>\n",
       "      <td>0</td>\n",
       "      <td>1</td>\n",
       "    </tr>\n",
       "    <tr>\n",
       "      <th>3</th>\n",
       "      <td>91.7</td>\n",
       "      <td>33.3</td>\n",
       "      <td>77.5</td>\n",
       "      <td>9.0</td>\n",
       "      <td>8.3</td>\n",
       "      <td>97</td>\n",
       "      <td>4.0</td>\n",
       "      <td>0.2</td>\n",
       "      <td>0.0</td>\n",
       "      <td>1</td>\n",
       "      <td>...</td>\n",
       "      <td>0</td>\n",
       "      <td>0</td>\n",
       "      <td>0</td>\n",
       "      <td>0</td>\n",
       "      <td>1</td>\n",
       "      <td>0</td>\n",
       "      <td>0</td>\n",
       "      <td>0</td>\n",
       "      <td>0</td>\n",
       "      <td>1</td>\n",
       "    </tr>\n",
       "    <tr>\n",
       "      <th>4</th>\n",
       "      <td>89.3</td>\n",
       "      <td>51.3</td>\n",
       "      <td>102.2</td>\n",
       "      <td>9.6</td>\n",
       "      <td>11.4</td>\n",
       "      <td>99</td>\n",
       "      <td>1.8</td>\n",
       "      <td>0.0</td>\n",
       "      <td>0.0</td>\n",
       "      <td>0</td>\n",
       "      <td>...</td>\n",
       "      <td>0</td>\n",
       "      <td>0</td>\n",
       "      <td>0</td>\n",
       "      <td>0</td>\n",
       "      <td>1</td>\n",
       "      <td>0</td>\n",
       "      <td>0</td>\n",
       "      <td>0</td>\n",
       "      <td>0</td>\n",
       "      <td>1</td>\n",
       "    </tr>\n",
       "  </tbody>\n",
       "</table>\n",
       "<p>5 rows × 29 columns</p>\n",
       "</div>"
      ],
      "text/plain": [
       "   FFMC   DMC     DC  ISI  temp  RH  wind  rain  area  dayfri  ...  monthfeb  \\\n",
       "0  86.2  26.2   94.3  5.1   8.2  51   6.7   0.0   0.0       1  ...         0   \n",
       "1  90.6  35.4  669.1  6.7  18.0  33   0.9   0.0   0.0       0  ...         0   \n",
       "2  90.6  43.7  686.9  6.7  14.6  33   1.3   0.0   0.0       0  ...         0   \n",
       "3  91.7  33.3   77.5  9.0   8.3  97   4.0   0.2   0.0       1  ...         0   \n",
       "4  89.3  51.3  102.2  9.6  11.4  99   1.8   0.0   0.0       0  ...         0   \n",
       "\n",
       "   monthjan  monthjul  monthjun  monthmar  monthmay  monthnov  monthoct  \\\n",
       "0         0         0         0         1         0         0         0   \n",
       "1         0         0         0         0         0         0         1   \n",
       "2         0         0         0         0         0         0         1   \n",
       "3         0         0         0         1         0         0         0   \n",
       "4         0         0         0         1         0         0         0   \n",
       "\n",
       "   monthsep  size_category  \n",
       "0         0              1  \n",
       "1         0              1  \n",
       "2         0              1  \n",
       "3         0              1  \n",
       "4         0              1  \n",
       "\n",
       "[5 rows x 29 columns]"
      ]
     },
     "execution_count": 14,
     "metadata": {},
     "output_type": "execute_result"
    }
   ],
   "source": [
    "data.head()"
   ]
  },
  {
   "cell_type": "markdown",
   "id": "3d4cf759",
   "metadata": {},
   "source": [
    "## Model Building "
   ]
  },
  {
   "cell_type": "code",
   "execution_count": 15,
   "id": "f6d7555c",
   "metadata": {},
   "outputs": [],
   "source": [
    "X = data.drop('size_category',axis= 1)\n",
    "Y = data[['size_category']]"
   ]
  },
  {
   "cell_type": "code",
   "execution_count": 16,
   "id": "0da026ab",
   "metadata": {},
   "outputs": [
    {
     "data": {
      "text/plain": [
       "array([[-8.05959472e-01, -1.32332557e+00, -1.83047676e+00, ...,\n",
       "        -4.40225453e-02, -1.72859706e-01, -7.06081245e-01],\n",
       "       [-8.10203395e-03, -1.17954077e+00,  4.88890915e-01, ...,\n",
       "        -4.40225453e-02,  5.78503817e+00, -7.06081245e-01],\n",
       "       [-8.10203395e-03, -1.04982188e+00,  5.60715454e-01, ...,\n",
       "        -4.40225453e-02,  5.78503817e+00, -7.06081245e-01],\n",
       "       ...,\n",
       "       [-1.64008316e+00, -8.46647711e-01,  4.74768113e-01, ...,\n",
       "        -4.40225453e-02, -1.72859706e-01, -7.06081245e-01],\n",
       "       [ 6.80956663e-01,  5.49002541e-01,  2.69382214e-01, ...,\n",
       "        -4.40225453e-02, -1.72859706e-01, -7.06081245e-01],\n",
       "       [-2.02087875e+00, -1.68591332e+00, -1.78044169e+00, ...,\n",
       "         2.27156334e+01, -1.72859706e-01, -7.06081245e-01]])"
      ]
     },
     "execution_count": 16,
     "metadata": {},
     "output_type": "execute_result"
    }
   ],
   "source": [
    "scalar = StandardScaler()\n",
    "x_scaled = scalar.fit_transform(X)\n",
    "x_scaled"
   ]
  },
  {
   "cell_type": "code",
   "execution_count": 17,
   "id": "383c8406",
   "metadata": {},
   "outputs": [
    {
     "data": {
      "text/plain": [
       "((413, 28), (104, 28), (413, 1), (104, 1))"
      ]
     },
     "execution_count": 17,
     "metadata": {},
     "output_type": "execute_result"
    }
   ],
   "source": [
    "x_train,x_test,y_train,y_test = train_test_split(x_scaled,Y,test_size=0.20,random_state=12,stratify=Y)\n",
    "x_train.shape,x_test.shape,y_train.shape,y_test.shape"
   ]
  },
  {
   "cell_type": "code",
   "execution_count": 18,
   "id": "775c87f7",
   "metadata": {},
   "outputs": [],
   "source": [
    "from keras.models import Sequential\n",
    "from keras.layers import Dense"
   ]
  },
  {
   "cell_type": "code",
   "execution_count": 45,
   "id": "6ff46d24",
   "metadata": {},
   "outputs": [],
   "source": [
    "model = Sequential()\n",
    "model.add(Dense(28, input_dim=28, activation='relu'))\n",
    "model.add(Dense(24, activation='relu'))\n",
    "model.add(Dense(1,activation='sigmoid'))"
   ]
  },
  {
   "cell_type": "code",
   "execution_count": 46,
   "id": "2e4a8e5a",
   "metadata": {},
   "outputs": [],
   "source": [
    "# Compiling the model \n",
    "model.compile(loss='binary_crossentropy',optimizer='adam', metrics=['accuracy'])"
   ]
  },
  {
   "cell_type": "markdown",
   "id": "ddcd951b",
   "metadata": {},
   "source": [
    "## Model Training "
   ]
  },
  {
   "cell_type": "code",
   "execution_count": 47,
   "id": "97d09745",
   "metadata": {},
   "outputs": [
    {
     "name": "stdout",
     "output_type": "stream",
     "text": [
      "Epoch 1/150\n",
      "28/28 [==============================] - 0s 5ms/step - loss: 0.6386 - accuracy: 0.6594 - val_loss: 0.6322 - val_accuracy: 0.7080\n",
      "Epoch 2/150\n",
      "28/28 [==============================] - 0s 2ms/step - loss: 0.5696 - accuracy: 0.7428 - val_loss: 0.6127 - val_accuracy: 0.7153\n",
      "Epoch 3/150\n",
      "28/28 [==============================] - 0s 2ms/step - loss: 0.5418 - accuracy: 0.7500 - val_loss: 0.6039 - val_accuracy: 0.7153\n",
      "Epoch 4/150\n",
      "28/28 [==============================] - 0s 2ms/step - loss: 0.5262 - accuracy: 0.7500 - val_loss: 0.6000 - val_accuracy: 0.7299\n",
      "Epoch 5/150\n",
      "28/28 [==============================] - 0s 2ms/step - loss: 0.5115 - accuracy: 0.7681 - val_loss: 0.5883 - val_accuracy: 0.7372\n",
      "Epoch 6/150\n",
      "28/28 [==============================] - 0s 3ms/step - loss: 0.4992 - accuracy: 0.7826 - val_loss: 0.5786 - val_accuracy: 0.7518\n",
      "Epoch 7/150\n",
      "28/28 [==============================] - 0s 2ms/step - loss: 0.4850 - accuracy: 0.7862 - val_loss: 0.5726 - val_accuracy: 0.7518\n",
      "Epoch 8/150\n",
      "28/28 [==============================] - 0s 2ms/step - loss: 0.4706 - accuracy: 0.7862 - val_loss: 0.5688 - val_accuracy: 0.7372\n",
      "Epoch 9/150\n",
      "28/28 [==============================] - 0s 2ms/step - loss: 0.4576 - accuracy: 0.7971 - val_loss: 0.5584 - val_accuracy: 0.7445\n",
      "Epoch 10/150\n",
      "28/28 [==============================] - 0s 2ms/step - loss: 0.4456 - accuracy: 0.7971 - val_loss: 0.5513 - val_accuracy: 0.7518\n",
      "Epoch 11/150\n",
      "28/28 [==============================] - 0s 2ms/step - loss: 0.4300 - accuracy: 0.8043 - val_loss: 0.5471 - val_accuracy: 0.7518\n",
      "Epoch 12/150\n",
      "28/28 [==============================] - 0s 2ms/step - loss: 0.4175 - accuracy: 0.8007 - val_loss: 0.5471 - val_accuracy: 0.7518\n",
      "Epoch 13/150\n",
      "28/28 [==============================] - 0s 2ms/step - loss: 0.4005 - accuracy: 0.8080 - val_loss: 0.5389 - val_accuracy: 0.7518\n",
      "Epoch 14/150\n",
      "28/28 [==============================] - 0s 2ms/step - loss: 0.3846 - accuracy: 0.8188 - val_loss: 0.5362 - val_accuracy: 0.7518\n",
      "Epoch 15/150\n",
      "28/28 [==============================] - 0s 2ms/step - loss: 0.3706 - accuracy: 0.8188 - val_loss: 0.5316 - val_accuracy: 0.7664\n",
      "Epoch 16/150\n",
      "28/28 [==============================] - 0s 3ms/step - loss: 0.3541 - accuracy: 0.8406 - val_loss: 0.5307 - val_accuracy: 0.7591\n",
      "Epoch 17/150\n",
      "28/28 [==============================] - 0s 2ms/step - loss: 0.3371 - accuracy: 0.8442 - val_loss: 0.5224 - val_accuracy: 0.7737\n",
      "Epoch 18/150\n",
      "28/28 [==============================] - 0s 2ms/step - loss: 0.3249 - accuracy: 0.8659 - val_loss: 0.5183 - val_accuracy: 0.7737\n",
      "Epoch 19/150\n",
      "28/28 [==============================] - 0s 3ms/step - loss: 0.3108 - accuracy: 0.8587 - val_loss: 0.5134 - val_accuracy: 0.7810\n",
      "Epoch 20/150\n",
      "28/28 [==============================] - 0s 2ms/step - loss: 0.2980 - accuracy: 0.8913 - val_loss: 0.5127 - val_accuracy: 0.7810\n",
      "Epoch 21/150\n",
      "28/28 [==============================] - 0s 2ms/step - loss: 0.2852 - accuracy: 0.8732 - val_loss: 0.5118 - val_accuracy: 0.7883\n",
      "Epoch 22/150\n",
      "28/28 [==============================] - 0s 2ms/step - loss: 0.2724 - accuracy: 0.8877 - val_loss: 0.5056 - val_accuracy: 0.7810\n",
      "Epoch 23/150\n",
      "28/28 [==============================] - 0s 2ms/step - loss: 0.2564 - accuracy: 0.8986 - val_loss: 0.5045 - val_accuracy: 0.7883\n",
      "Epoch 24/150\n",
      "28/28 [==============================] - 0s 2ms/step - loss: 0.2442 - accuracy: 0.9022 - val_loss: 0.5010 - val_accuracy: 0.7956\n",
      "Epoch 25/150\n",
      "28/28 [==============================] - 0s 2ms/step - loss: 0.2349 - accuracy: 0.9130 - val_loss: 0.4889 - val_accuracy: 0.8102\n",
      "Epoch 26/150\n",
      "28/28 [==============================] - 0s 2ms/step - loss: 0.2242 - accuracy: 0.9094 - val_loss: 0.4921 - val_accuracy: 0.8029\n",
      "Epoch 27/150\n",
      "28/28 [==============================] - 0s 3ms/step - loss: 0.2110 - accuracy: 0.9348 - val_loss: 0.4890 - val_accuracy: 0.8102\n",
      "Epoch 28/150\n",
      "28/28 [==============================] - 0s 3ms/step - loss: 0.2030 - accuracy: 0.9312 - val_loss: 0.4827 - val_accuracy: 0.8248\n",
      "Epoch 29/150\n",
      "28/28 [==============================] - 0s 2ms/step - loss: 0.1914 - accuracy: 0.9275 - val_loss: 0.4873 - val_accuracy: 0.8321\n",
      "Epoch 30/150\n",
      "28/28 [==============================] - 0s 3ms/step - loss: 0.1820 - accuracy: 0.9348 - val_loss: 0.4866 - val_accuracy: 0.8321\n",
      "Epoch 31/150\n",
      "28/28 [==============================] - 0s 2ms/step - loss: 0.1719 - accuracy: 0.9348 - val_loss: 0.4797 - val_accuracy: 0.8321\n",
      "Epoch 32/150\n",
      "28/28 [==============================] - 0s 2ms/step - loss: 0.1642 - accuracy: 0.9493 - val_loss: 0.4840 - val_accuracy: 0.8321\n",
      "Epoch 33/150\n",
      "28/28 [==============================] - 0s 2ms/step - loss: 0.1565 - accuracy: 0.9493 - val_loss: 0.4795 - val_accuracy: 0.8467\n",
      "Epoch 34/150\n",
      "28/28 [==============================] - 0s 3ms/step - loss: 0.1509 - accuracy: 0.9420 - val_loss: 0.4807 - val_accuracy: 0.8394\n",
      "Epoch 35/150\n",
      "28/28 [==============================] - 0s 2ms/step - loss: 0.1406 - accuracy: 0.9601 - val_loss: 0.4792 - val_accuracy: 0.8394\n",
      "Epoch 36/150\n",
      "28/28 [==============================] - 0s 3ms/step - loss: 0.1329 - accuracy: 0.9601 - val_loss: 0.4849 - val_accuracy: 0.8467\n",
      "Epoch 37/150\n",
      "28/28 [==============================] - 0s 2ms/step - loss: 0.1248 - accuracy: 0.9638 - val_loss: 0.4832 - val_accuracy: 0.8394\n",
      "Epoch 38/150\n",
      "28/28 [==============================] - 0s 2ms/step - loss: 0.1193 - accuracy: 0.9710 - val_loss: 0.4784 - val_accuracy: 0.8394\n",
      "Epoch 39/150\n",
      "28/28 [==============================] - 0s 2ms/step - loss: 0.1160 - accuracy: 0.9565 - val_loss: 0.4805 - val_accuracy: 0.8467\n",
      "Epoch 40/150\n",
      "28/28 [==============================] - 0s 3ms/step - loss: 0.1047 - accuracy: 0.9819 - val_loss: 0.4883 - val_accuracy: 0.8321\n",
      "Epoch 41/150\n",
      "28/28 [==============================] - 0s 2ms/step - loss: 0.1033 - accuracy: 0.9746 - val_loss: 0.4868 - val_accuracy: 0.8394\n",
      "Epoch 42/150\n",
      "28/28 [==============================] - 0s 2ms/step - loss: 0.0957 - accuracy: 0.9783 - val_loss: 0.4893 - val_accuracy: 0.8394\n",
      "Epoch 43/150\n",
      "28/28 [==============================] - 0s 2ms/step - loss: 0.0964 - accuracy: 0.9783 - val_loss: 0.4899 - val_accuracy: 0.8467\n",
      "Epoch 44/150\n",
      "28/28 [==============================] - 0s 2ms/step - loss: 0.0915 - accuracy: 0.9855 - val_loss: 0.4877 - val_accuracy: 0.8321\n",
      "Epoch 45/150\n",
      "28/28 [==============================] - 0s 2ms/step - loss: 0.0825 - accuracy: 0.9746 - val_loss: 0.4960 - val_accuracy: 0.8467\n",
      "Epoch 46/150\n",
      "28/28 [==============================] - 0s 2ms/step - loss: 0.0794 - accuracy: 0.9891 - val_loss: 0.4966 - val_accuracy: 0.8394\n",
      "Epoch 47/150\n",
      "28/28 [==============================] - 0s 2ms/step - loss: 0.0738 - accuracy: 0.9855 - val_loss: 0.4920 - val_accuracy: 0.8467\n",
      "Epoch 48/150\n",
      "28/28 [==============================] - 0s 2ms/step - loss: 0.0750 - accuracy: 0.9819 - val_loss: 0.5048 - val_accuracy: 0.8394\n",
      "Epoch 49/150\n",
      "28/28 [==============================] - 0s 2ms/step - loss: 0.0656 - accuracy: 0.9891 - val_loss: 0.5070 - val_accuracy: 0.8321\n",
      "Epoch 50/150\n",
      "28/28 [==============================] - 0s 2ms/step - loss: 0.0646 - accuracy: 0.9855 - val_loss: 0.5107 - val_accuracy: 0.8321\n",
      "Epoch 51/150\n",
      "28/28 [==============================] - 0s 2ms/step - loss: 0.0606 - accuracy: 0.9855 - val_loss: 0.5097 - val_accuracy: 0.8394\n",
      "Epoch 52/150\n",
      "28/28 [==============================] - 0s 2ms/step - loss: 0.0651 - accuracy: 0.9891 - val_loss: 0.5102 - val_accuracy: 0.8394\n",
      "Epoch 53/150\n",
      "28/28 [==============================] - 0s 2ms/step - loss: 0.0560 - accuracy: 0.9928 - val_loss: 0.5189 - val_accuracy: 0.8467\n",
      "Epoch 54/150\n",
      "28/28 [==============================] - 0s 2ms/step - loss: 0.0516 - accuracy: 0.9928 - val_loss: 0.5192 - val_accuracy: 0.8394\n",
      "Epoch 55/150\n",
      "28/28 [==============================] - 0s 2ms/step - loss: 0.0495 - accuracy: 0.9928 - val_loss: 0.5137 - val_accuracy: 0.8467\n",
      "Epoch 56/150\n",
      "28/28 [==============================] - 0s 2ms/step - loss: 0.0501 - accuracy: 0.9855 - val_loss: 0.5292 - val_accuracy: 0.8248\n",
      "Epoch 57/150\n",
      "28/28 [==============================] - 0s 2ms/step - loss: 0.0502 - accuracy: 0.9855 - val_loss: 0.5294 - val_accuracy: 0.8613\n",
      "Epoch 58/150\n",
      "28/28 [==============================] - 0s 2ms/step - loss: 0.0462 - accuracy: 0.9891 - val_loss: 0.5265 - val_accuracy: 0.8467\n",
      "Epoch 59/150\n",
      "28/28 [==============================] - 0s 2ms/step - loss: 0.0467 - accuracy: 0.9855 - val_loss: 0.5232 - val_accuracy: 0.8467\n",
      "Epoch 60/150\n",
      "28/28 [==============================] - 0s 2ms/step - loss: 0.0427 - accuracy: 0.9928 - val_loss: 0.5255 - val_accuracy: 0.8467\n",
      "Epoch 61/150\n",
      "28/28 [==============================] - 0s 2ms/step - loss: 0.0398 - accuracy: 0.9964 - val_loss: 0.5347 - val_accuracy: 0.8540\n",
      "Epoch 62/150\n",
      "28/28 [==============================] - 0s 2ms/step - loss: 0.0392 - accuracy: 1.0000 - val_loss: 0.5334 - val_accuracy: 0.8613\n",
      "Epoch 63/150\n",
      "28/28 [==============================] - 0s 2ms/step - loss: 0.0398 - accuracy: 0.9891 - val_loss: 0.5403 - val_accuracy: 0.8540\n",
      "Epoch 64/150\n",
      "28/28 [==============================] - 0s 2ms/step - loss: 0.0430 - accuracy: 0.9928 - val_loss: 0.5452 - val_accuracy: 0.8467\n",
      "Epoch 65/150\n",
      "28/28 [==============================] - 0s 2ms/step - loss: 0.0368 - accuracy: 0.9891 - val_loss: 0.5386 - val_accuracy: 0.8467\n",
      "Epoch 66/150\n",
      "28/28 [==============================] - 0s 2ms/step - loss: 0.0345 - accuracy: 0.9964 - val_loss: 0.5536 - val_accuracy: 0.8467\n",
      "Epoch 67/150\n",
      "28/28 [==============================] - 0s 2ms/step - loss: 0.0316 - accuracy: 0.9928 - val_loss: 0.5467 - val_accuracy: 0.8613\n",
      "Epoch 68/150\n",
      "28/28 [==============================] - 0s 2ms/step - loss: 0.0309 - accuracy: 0.9964 - val_loss: 0.5498 - val_accuracy: 0.8394\n",
      "Epoch 69/150\n",
      "28/28 [==============================] - 0s 2ms/step - loss: 0.0311 - accuracy: 0.9964 - val_loss: 0.5516 - val_accuracy: 0.8540\n",
      "Epoch 70/150\n",
      "28/28 [==============================] - 0s 2ms/step - loss: 0.0286 - accuracy: 0.9964 - val_loss: 0.5585 - val_accuracy: 0.8394\n",
      "Epoch 71/150\n",
      "28/28 [==============================] - 0s 2ms/step - loss: 0.0304 - accuracy: 0.9928 - val_loss: 0.5569 - val_accuracy: 0.8540\n",
      "Epoch 72/150\n",
      "28/28 [==============================] - 0s 2ms/step - loss: 0.0267 - accuracy: 0.9964 - val_loss: 0.5624 - val_accuracy: 0.8467\n",
      "Epoch 73/150\n",
      "28/28 [==============================] - 0s 2ms/step - loss: 0.0293 - accuracy: 0.9964 - val_loss: 0.5575 - val_accuracy: 0.8467\n",
      "Epoch 74/150\n",
      "28/28 [==============================] - 0s 2ms/step - loss: 0.0231 - accuracy: 1.0000 - val_loss: 0.5655 - val_accuracy: 0.8613\n",
      "Epoch 75/150\n",
      "28/28 [==============================] - 0s 2ms/step - loss: 0.0274 - accuracy: 0.9891 - val_loss: 0.5672 - val_accuracy: 0.8540\n",
      "Epoch 76/150\n",
      "28/28 [==============================] - 0s 2ms/step - loss: 0.0237 - accuracy: 0.9964 - val_loss: 0.5618 - val_accuracy: 0.8540\n",
      "Epoch 77/150\n",
      "28/28 [==============================] - 0s 2ms/step - loss: 0.0262 - accuracy: 0.9928 - val_loss: 0.5702 - val_accuracy: 0.8467\n",
      "Epoch 78/150\n",
      "28/28 [==============================] - 0s 2ms/step - loss: 0.0235 - accuracy: 0.9964 - val_loss: 0.5682 - val_accuracy: 0.8540\n",
      "Epoch 79/150\n",
      "28/28 [==============================] - 0s 2ms/step - loss: 0.0234 - accuracy: 0.9964 - val_loss: 0.5820 - val_accuracy: 0.8540\n",
      "Epoch 80/150\n",
      "28/28 [==============================] - 0s 2ms/step - loss: 0.0325 - accuracy: 0.9928 - val_loss: 0.5563 - val_accuracy: 0.8540\n",
      "Epoch 81/150\n",
      "28/28 [==============================] - 0s 2ms/step - loss: 0.0235 - accuracy: 0.9964 - val_loss: 0.5800 - val_accuracy: 0.8540\n",
      "Epoch 82/150\n",
      "28/28 [==============================] - 0s 2ms/step - loss: 0.0194 - accuracy: 1.0000 - val_loss: 0.5687 - val_accuracy: 0.8540\n",
      "Epoch 83/150\n",
      "28/28 [==============================] - 0s 2ms/step - loss: 0.0192 - accuracy: 0.9964 - val_loss: 0.5750 - val_accuracy: 0.8467\n",
      "Epoch 84/150\n",
      "28/28 [==============================] - 0s 2ms/step - loss: 0.0166 - accuracy: 1.0000 - val_loss: 0.5890 - val_accuracy: 0.8540\n",
      "Epoch 85/150\n",
      "28/28 [==============================] - 0s 2ms/step - loss: 0.0173 - accuracy: 1.0000 - val_loss: 0.5912 - val_accuracy: 0.8467\n",
      "Epoch 86/150\n",
      "28/28 [==============================] - 0s 2ms/step - loss: 0.0165 - accuracy: 1.0000 - val_loss: 0.5781 - val_accuracy: 0.8540\n",
      "Epoch 87/150\n",
      "28/28 [==============================] - 0s 2ms/step - loss: 0.0151 - accuracy: 1.0000 - val_loss: 0.5865 - val_accuracy: 0.8540\n",
      "Epoch 88/150\n",
      "28/28 [==============================] - 0s 2ms/step - loss: 0.0150 - accuracy: 1.0000 - val_loss: 0.5901 - val_accuracy: 0.8540\n",
      "Epoch 89/150\n",
      "28/28 [==============================] - 0s 2ms/step - loss: 0.0145 - accuracy: 1.0000 - val_loss: 0.5916 - val_accuracy: 0.8540\n",
      "Epoch 90/150\n",
      "28/28 [==============================] - 0s 2ms/step - loss: 0.0157 - accuracy: 1.0000 - val_loss: 0.5900 - val_accuracy: 0.8540\n",
      "Epoch 91/150\n",
      "28/28 [==============================] - 0s 2ms/step - loss: 0.0165 - accuracy: 0.9964 - val_loss: 0.5869 - val_accuracy: 0.8540\n",
      "Epoch 92/150\n",
      "28/28 [==============================] - 0s 2ms/step - loss: 0.0169 - accuracy: 0.9964 - val_loss: 0.5914 - val_accuracy: 0.8540\n",
      "Epoch 93/150\n",
      "28/28 [==============================] - 0s 2ms/step - loss: 0.0165 - accuracy: 0.9964 - val_loss: 0.5933 - val_accuracy: 0.8467\n",
      "Epoch 94/150\n",
      "28/28 [==============================] - 0s 2ms/step - loss: 0.0161 - accuracy: 0.9964 - val_loss: 0.5989 - val_accuracy: 0.8540\n",
      "Epoch 95/150\n",
      "28/28 [==============================] - 0s 2ms/step - loss: 0.0117 - accuracy: 1.0000 - val_loss: 0.5964 - val_accuracy: 0.8540\n",
      "Epoch 96/150\n",
      "28/28 [==============================] - 0s 2ms/step - loss: 0.0130 - accuracy: 1.0000 - val_loss: 0.6080 - val_accuracy: 0.8467\n",
      "Epoch 97/150\n",
      "28/28 [==============================] - 0s 2ms/step - loss: 0.0131 - accuracy: 0.9964 - val_loss: 0.5921 - val_accuracy: 0.8540\n",
      "Epoch 98/150\n",
      "28/28 [==============================] - 0s 2ms/step - loss: 0.0137 - accuracy: 0.9964 - val_loss: 0.6080 - val_accuracy: 0.8613\n",
      "Epoch 99/150\n",
      "28/28 [==============================] - 0s 2ms/step - loss: 0.0150 - accuracy: 0.9964 - val_loss: 0.6031 - val_accuracy: 0.8540\n",
      "Epoch 100/150\n",
      "28/28 [==============================] - 0s 2ms/step - loss: 0.0237 - accuracy: 0.9928 - val_loss: 0.6142 - val_accuracy: 0.8467\n",
      "Epoch 101/150\n",
      "28/28 [==============================] - 0s 2ms/step - loss: 0.0131 - accuracy: 0.9964 - val_loss: 0.5852 - val_accuracy: 0.8540\n",
      "Epoch 102/150\n",
      "28/28 [==============================] - 0s 2ms/step - loss: 0.0147 - accuracy: 0.9964 - val_loss: 0.5935 - val_accuracy: 0.8540\n",
      "Epoch 103/150\n",
      "28/28 [==============================] - 0s 2ms/step - loss: 0.0122 - accuracy: 1.0000 - val_loss: 0.6392 - val_accuracy: 0.8394\n",
      "Epoch 104/150\n",
      "28/28 [==============================] - 0s 2ms/step - loss: 0.0234 - accuracy: 0.9964 - val_loss: 0.6078 - val_accuracy: 0.8540\n",
      "Epoch 105/150\n",
      "28/28 [==============================] - 0s 2ms/step - loss: 0.0101 - accuracy: 1.0000 - val_loss: 0.6062 - val_accuracy: 0.8540\n",
      "Epoch 106/150\n",
      "28/28 [==============================] - 0s 2ms/step - loss: 0.0097 - accuracy: 1.0000 - val_loss: 0.6038 - val_accuracy: 0.8540\n",
      "Epoch 107/150\n",
      "28/28 [==============================] - 0s 2ms/step - loss: 0.0091 - accuracy: 1.0000 - val_loss: 0.6062 - val_accuracy: 0.8540\n",
      "Epoch 108/150\n",
      "28/28 [==============================] - 0s 2ms/step - loss: 0.0108 - accuracy: 1.0000 - val_loss: 0.6212 - val_accuracy: 0.8540\n",
      "Epoch 109/150\n",
      "28/28 [==============================] - 0s 2ms/step - loss: 0.0093 - accuracy: 1.0000 - val_loss: 0.5964 - val_accuracy: 0.8540\n",
      "Epoch 110/150\n",
      "28/28 [==============================] - 0s 2ms/step - loss: 0.0101 - accuracy: 1.0000 - val_loss: 0.6077 - val_accuracy: 0.8540\n",
      "Epoch 111/150\n",
      "28/28 [==============================] - 0s 2ms/step - loss: 0.0076 - accuracy: 1.0000 - val_loss: 0.6163 - val_accuracy: 0.8540\n",
      "Epoch 112/150\n",
      "28/28 [==============================] - 0s 2ms/step - loss: 0.0084 - accuracy: 1.0000 - val_loss: 0.6190 - val_accuracy: 0.8540\n",
      "Epoch 113/150\n",
      "28/28 [==============================] - 0s 2ms/step - loss: 0.0081 - accuracy: 1.0000 - val_loss: 0.6071 - val_accuracy: 0.8613\n",
      "Epoch 114/150\n",
      "28/28 [==============================] - 0s 2ms/step - loss: 0.0080 - accuracy: 1.0000 - val_loss: 0.6178 - val_accuracy: 0.8540\n",
      "Epoch 115/150\n",
      "28/28 [==============================] - 0s 2ms/step - loss: 0.0082 - accuracy: 1.0000 - val_loss: 0.6181 - val_accuracy: 0.8540\n",
      "Epoch 116/150\n",
      "28/28 [==============================] - 0s 2ms/step - loss: 0.0077 - accuracy: 1.0000 - val_loss: 0.6207 - val_accuracy: 0.8540\n",
      "Epoch 117/150\n",
      "28/28 [==============================] - 0s 2ms/step - loss: 0.0077 - accuracy: 1.0000 - val_loss: 0.6258 - val_accuracy: 0.8540\n",
      "Epoch 118/150\n",
      "28/28 [==============================] - 0s 2ms/step - loss: 0.0076 - accuracy: 1.0000 - val_loss: 0.6264 - val_accuracy: 0.8540\n",
      "Epoch 119/150\n",
      "28/28 [==============================] - 0s 2ms/step - loss: 0.0068 - accuracy: 1.0000 - val_loss: 0.6274 - val_accuracy: 0.8540\n",
      "Epoch 120/150\n",
      "28/28 [==============================] - 0s 2ms/step - loss: 0.0070 - accuracy: 1.0000 - val_loss: 0.6267 - val_accuracy: 0.8540\n",
      "Epoch 121/150\n",
      "28/28 [==============================] - 0s 2ms/step - loss: 0.0069 - accuracy: 1.0000 - val_loss: 0.6291 - val_accuracy: 0.8540\n",
      "Epoch 122/150\n",
      "28/28 [==============================] - 0s 2ms/step - loss: 0.0067 - accuracy: 1.0000 - val_loss: 0.6236 - val_accuracy: 0.8540\n",
      "Epoch 123/150\n",
      "28/28 [==============================] - 0s 2ms/step - loss: 0.0068 - accuracy: 1.0000 - val_loss: 0.6431 - val_accuracy: 0.8613\n",
      "Epoch 124/150\n",
      "28/28 [==============================] - 0s 2ms/step - loss: 0.0072 - accuracy: 1.0000 - val_loss: 0.6259 - val_accuracy: 0.8540\n",
      "Epoch 125/150\n",
      "28/28 [==============================] - 0s 2ms/step - loss: 0.0097 - accuracy: 0.9964 - val_loss: 0.6305 - val_accuracy: 0.8540\n",
      "Epoch 126/150\n",
      "28/28 [==============================] - 0s 2ms/step - loss: 0.0137 - accuracy: 0.9964 - val_loss: 0.6415 - val_accuracy: 0.8686\n",
      "Epoch 127/150\n",
      "28/28 [==============================] - 0s 2ms/step - loss: 0.0078 - accuracy: 0.9964 - val_loss: 0.6380 - val_accuracy: 0.8613\n",
      "Epoch 128/150\n",
      "28/28 [==============================] - 0s 2ms/step - loss: 0.0054 - accuracy: 1.0000 - val_loss: 0.6298 - val_accuracy: 0.8540\n",
      "Epoch 129/150\n",
      "28/28 [==============================] - 0s 2ms/step - loss: 0.0055 - accuracy: 1.0000 - val_loss: 0.6332 - val_accuracy: 0.8613\n",
      "Epoch 130/150\n",
      "28/28 [==============================] - 0s 2ms/step - loss: 0.0054 - accuracy: 1.0000 - val_loss: 0.6366 - val_accuracy: 0.8613\n",
      "Epoch 131/150\n",
      "28/28 [==============================] - 0s 2ms/step - loss: 0.0053 - accuracy: 1.0000 - val_loss: 0.6374 - val_accuracy: 0.8686\n",
      "Epoch 132/150\n",
      "28/28 [==============================] - 0s 2ms/step - loss: 0.0052 - accuracy: 1.0000 - val_loss: 0.6424 - val_accuracy: 0.8613\n",
      "Epoch 133/150\n",
      "28/28 [==============================] - 0s 2ms/step - loss: 0.0056 - accuracy: 1.0000 - val_loss: 0.6417 - val_accuracy: 0.8686\n",
      "Epoch 134/150\n",
      "28/28 [==============================] - 0s 2ms/step - loss: 0.0051 - accuracy: 1.0000 - val_loss: 0.6428 - val_accuracy: 0.8686\n",
      "Epoch 135/150\n",
      "28/28 [==============================] - 0s 2ms/step - loss: 0.0050 - accuracy: 1.0000 - val_loss: 0.6464 - val_accuracy: 0.8613\n",
      "Epoch 136/150\n",
      "28/28 [==============================] - 0s 3ms/step - loss: 0.0052 - accuracy: 1.0000 - val_loss: 0.6467 - val_accuracy: 0.8613\n",
      "Epoch 137/150\n",
      "28/28 [==============================] - 0s 2ms/step - loss: 0.0047 - accuracy: 1.0000 - val_loss: 0.6514 - val_accuracy: 0.8613\n",
      "Epoch 138/150\n",
      "28/28 [==============================] - 0s 2ms/step - loss: 0.0050 - accuracy: 1.0000 - val_loss: 0.6476 - val_accuracy: 0.8686\n",
      "Epoch 139/150\n",
      "28/28 [==============================] - 0s 2ms/step - loss: 0.0047 - accuracy: 1.0000 - val_loss: 0.6519 - val_accuracy: 0.8686\n",
      "Epoch 140/150\n",
      "28/28 [==============================] - 0s 2ms/step - loss: 0.0054 - accuracy: 1.0000 - val_loss: 0.6554 - val_accuracy: 0.8686\n",
      "Epoch 141/150\n",
      "28/28 [==============================] - 0s 2ms/step - loss: 0.0044 - accuracy: 1.0000 - val_loss: 0.6566 - val_accuracy: 0.8686\n",
      "Epoch 142/150\n",
      "28/28 [==============================] - 0s 2ms/step - loss: 0.0039 - accuracy: 1.0000 - val_loss: 0.6613 - val_accuracy: 0.8686\n",
      "Epoch 143/150\n",
      "28/28 [==============================] - 0s 2ms/step - loss: 0.0046 - accuracy: 1.0000 - val_loss: 0.6468 - val_accuracy: 0.8686\n",
      "Epoch 144/150\n",
      "28/28 [==============================] - 0s 2ms/step - loss: 0.0047 - accuracy: 1.0000 - val_loss: 0.6573 - val_accuracy: 0.8686\n",
      "Epoch 145/150\n",
      "28/28 [==============================] - 0s 2ms/step - loss: 0.0041 - accuracy: 1.0000 - val_loss: 0.6668 - val_accuracy: 0.8686\n",
      "Epoch 146/150\n",
      "28/28 [==============================] - 0s 2ms/step - loss: 0.0045 - accuracy: 1.0000 - val_loss: 0.6614 - val_accuracy: 0.8686\n",
      "Epoch 147/150\n",
      "28/28 [==============================] - 0s 2ms/step - loss: 0.0040 - accuracy: 1.0000 - val_loss: 0.6572 - val_accuracy: 0.8686\n",
      "Epoch 148/150\n",
      "28/28 [==============================] - 0s 2ms/step - loss: 0.0055 - accuracy: 1.0000 - val_loss: 0.6700 - val_accuracy: 0.8613\n",
      "Epoch 149/150\n",
      "28/28 [==============================] - 0s 2ms/step - loss: 0.0127 - accuracy: 0.9964 - val_loss: 0.6502 - val_accuracy: 0.8686\n",
      "Epoch 150/150\n",
      "28/28 [==============================] - 0s 2ms/step - loss: 0.0215 - accuracy: 0.9928 - val_loss: 0.6687 - val_accuracy: 0.8613\n"
     ]
    },
    {
     "data": {
      "text/plain": [
       "<keras.callbacks.History at 0x21f5dd75ac0>"
      ]
     },
     "execution_count": 47,
     "metadata": {},
     "output_type": "execute_result"
    }
   ],
   "source": [
    "# Fit the model\n",
    "model.fit(x_train, y_train, validation_split=0.33, epochs=150, batch_size=10)"
   ]
  },
  {
   "cell_type": "markdown",
   "id": "02400a23",
   "metadata": {},
   "source": [
    "## Model Testing "
   ]
  },
  {
   "cell_type": "code",
   "execution_count": 48,
   "id": "a4ce977f",
   "metadata": {},
   "outputs": [],
   "source": [
    "#  prediction using training dataset\n",
    "y_pedict_train = model.predict(x_train)\n",
    "rounded = [round(x[0]) for x in y_pedict_train]"
   ]
  },
  {
   "cell_type": "code",
   "execution_count": 49,
   "id": "979b8920",
   "metadata": {},
   "outputs": [],
   "source": [
    "y_pedict_train1 = pd.DataFrame(rounded)"
   ]
  },
  {
   "cell_type": "code",
   "execution_count": 50,
   "id": "b13fef5d",
   "metadata": {},
   "outputs": [],
   "source": [
    "# prediction using testing dataset\n",
    "y_pedict_test = model.predict(x_test)\n",
    "rounded1 = [round(x[0]) for x in y_pedict_test]"
   ]
  },
  {
   "cell_type": "code",
   "execution_count": 51,
   "id": "5938738d",
   "metadata": {},
   "outputs": [],
   "source": [
    "y_pedict_test1 = pd.DataFrame(rounded1)"
   ]
  },
  {
   "cell_type": "markdown",
   "id": "5316ff06",
   "metadata": {},
   "source": [
    "## Model Evaluation"
   ]
  },
  {
   "cell_type": "code",
   "execution_count": 52,
   "id": "c10ba5e4",
   "metadata": {},
   "outputs": [
    {
     "data": {
      "text/plain": [
       "[0.013911301270127296, 1.0]"
      ]
     },
     "execution_count": 52,
     "metadata": {},
     "output_type": "execute_result"
    }
   ],
   "source": [
    "accuracy1 = model.evaluate(x_train, y_pedict_train1,verbose=0)   \n",
    "accuracy1"
   ]
  },
  {
   "cell_type": "code",
   "execution_count": 53,
   "id": "512caa58",
   "metadata": {},
   "outputs": [
    {
     "data": {
      "text/plain": [
       "[0.023947540670633316, 1.0]"
      ]
     },
     "execution_count": 53,
     "metadata": {},
     "output_type": "execute_result"
    }
   ],
   "source": [
    "accuracy2 = model.evaluate(x_test, y_pedict_test1, verbose=0)\n",
    "accuracy2"
   ]
  },
  {
   "cell_type": "markdown",
   "id": "896b2dac",
   "metadata": {},
   "source": [
    "## Visualizing Accuracy and loss"
   ]
  },
  {
   "cell_type": "code",
   "execution_count": 28,
   "id": "10b98584",
   "metadata": {},
   "outputs": [],
   "source": [
    "history = model.fit(x_test, y_pedict_test1, validation_split=0.33, epochs=150, batch_size=10, verbose=0)"
   ]
  },
  {
   "cell_type": "code",
   "execution_count": 29,
   "id": "6b3ef8b4",
   "metadata": {},
   "outputs": [
    {
     "data": {
      "text/plain": [
       "dict_keys(['loss', 'accuracy', 'val_loss', 'val_accuracy'])"
      ]
     },
     "execution_count": 29,
     "metadata": {},
     "output_type": "execute_result"
    }
   ],
   "source": [
    "# Visualize training history\n",
    "\n",
    "# list all data in history\n",
    "\n",
    "model.history.history.keys()"
   ]
  },
  {
   "cell_type": "code",
   "execution_count": 30,
   "id": "383f05ce",
   "metadata": {
    "scrolled": true
   },
   "outputs": [
    {
     "data": {
      "image/png": "[encoded data removed]",
      "text/plain": [
       "<Figure size 432x288 with 1 Axes>"
      ]
     },
     "metadata": {
      "needs_background": "light"
     },
     "output_type": "display_data"
    },
    {
     "data": {
      "image/png": "[encoded data removed]",
      "text/plain": [
       "<Figure size 432x288 with 1 Axes>"
      ]
     },
     "metadata": {
      "needs_background": "light"
     },
     "output_type": "display_data"
    }
   ],
   "source": [
    "# summarize history for accuracy\n",
    "plt.plot(history.history['accuracy'])\n",
    "plt.plot(history.history['val_accuracy'])\n",
    "plt.title('model accuracy')\n",
    "plt.ylabel('accuracy')\n",
    "plt.xlabel('epoch')\n",
    "plt.legend(['train', 'test'], loc='upper left')\n",
    "plt.show()\n",
    "# summarize history for loss\n",
    "plt.plot(history.history['loss'])\n",
    "plt.plot(history.history['val_loss'])\n",
    "plt.title('model loss')\n",
    "plt.ylabel('loss')\n",
    "plt.xlabel('epoch')\n",
    "plt.legend(['train', 'test'], loc='upper left')\n",
    "plt.show()"
   ]
  },
  {
   "cell_type": "markdown",
   "id": "68ef9199",
   "metadata": {},
   "source": [
    "## Tuning of Hyperparameters :- Batch Size and Epochs"
   ]
  },
  {
   "cell_type": "code",
   "execution_count": 35,
   "id": "788ed1c9",
   "metadata": {},
   "outputs": [],
   "source": [
    "# Importing the necessary packages\n",
    "from sklearn.model_selection import GridSearchCV, KFold\n",
    "from keras.models import Sequential\n",
    "from keras.layers import Dense\n",
    "from keras.wrappers.scikit_learn import KerasClassifier\n",
    "from tensorflow.keras.optimizers import Adam"
   ]
  },
  {
   "cell_type": "code",
   "execution_count": 37,
   "id": "e0e44511",
   "metadata": {},
   "outputs": [],
   "source": [
    "# create model \n",
    "def create_model():\n",
    "    model1 = Sequential()\n",
    "    model1.add(Dense(30, input_dim=28, activation='relu'))\n",
    "    model1.add(Dense(28, activation='relu'))\n",
    "    model1.add(Dense(1,activation='sigmoid'))\n",
    "    \n",
    "    model1.compile(loss='binary_crossentropy', optimizer= 'adam', metrics=['accuracy'])\n",
    "    return model1"
   ]
  },
  {
   "cell_type": "code",
   "execution_count": 38,
   "id": "dd3b1cb2",
   "metadata": {},
   "outputs": [
    {
     "name": "stdout",
     "output_type": "stream",
     "text": [
      "Fitting 5 folds for each of 9 candidates, totalling 45 fits\n",
      "[CV 1/5; 1/9] START batch_size=10, epochs=10....................................\n",
      "[CV 1/5; 1/9] END ..................batch_size=10, epochs=10; total time=   0.5s\n",
      "[CV 2/5; 1/9] START batch_size=10, epochs=10....................................\n",
      "[CV 2/5; 1/9] END ..................batch_size=10, epochs=10; total time=   0.5s\n",
      "[CV 3/5; 1/9] START batch_size=10, epochs=10....................................\n",
      "[CV 3/5; 1/9] END ..................batch_size=10, epochs=10; total time=   0.5s\n",
      "[CV 4/5; 1/9] START batch_size=10, epochs=10....................................\n",
      "[CV 4/5; 1/9] END ..................batch_size=10, epochs=10; total time=   0.6s\n",
      "[CV 5/5; 1/9] START batch_size=10, epochs=10....................................\n",
      "[CV 5/5; 1/9] END ..................batch_size=10, epochs=10; total time=   0.6s\n",
      "[CV 1/5; 2/9] START batch_size=10, epochs=50....................................\n",
      "[CV 1/5; 2/9] END ..................batch_size=10, epochs=50; total time=   1.9s\n",
      "[CV 2/5; 2/9] START batch_size=10, epochs=50....................................\n",
      "[CV 2/5; 2/9] END ..................batch_size=10, epochs=50; total time=   1.8s\n",
      "[CV 3/5; 2/9] START batch_size=10, epochs=50....................................\n",
      "[CV 3/5; 2/9] END ..................batch_size=10, epochs=50; total time=   1.7s\n",
      "[CV 4/5; 2/9] START batch_size=10, epochs=50....................................\n",
      "[CV 4/5; 2/9] END ..................batch_size=10, epochs=50; total time=   1.7s\n",
      "[CV 5/5; 2/9] START batch_size=10, epochs=50....................................\n",
      "[CV 5/5; 2/9] END ..................batch_size=10, epochs=50; total time=   1.8s\n",
      "[CV 1/5; 3/9] START batch_size=10, epochs=100...................................\n",
      "[CV 1/5; 3/9] END .................batch_size=10, epochs=100; total time=   3.0s\n",
      "[CV 2/5; 3/9] START batch_size=10, epochs=100...................................\n",
      "[CV 2/5; 3/9] END .................batch_size=10, epochs=100; total time=   3.2s\n",
      "[CV 3/5; 3/9] START batch_size=10, epochs=100...................................\n",
      "[CV 3/5; 3/9] END .................batch_size=10, epochs=100; total time=   3.5s\n",
      "[CV 4/5; 3/9] START batch_size=10, epochs=100...................................\n",
      "[CV 4/5; 3/9] END .................batch_size=10, epochs=100; total time=   3.4s\n",
      "[CV 5/5; 3/9] START batch_size=10, epochs=100...................................\n",
      "[CV 5/5; 3/9] END .................batch_size=10, epochs=100; total time=   3.6s\n",
      "[CV 1/5; 4/9] START batch_size=20, epochs=10....................................\n",
      "[CV 1/5; 4/9] END ..................batch_size=20, epochs=10; total time=   0.6s\n",
      "[CV 2/5; 4/9] START batch_size=20, epochs=10....................................\n",
      "[CV 2/5; 4/9] END ..................batch_size=20, epochs=10; total time=   0.4s\n",
      "[CV 3/5; 4/9] START batch_size=20, epochs=10....................................\n",
      "[CV 3/5; 4/9] END ..................batch_size=20, epochs=10; total time=   0.4s\n",
      "[CV 4/5; 4/9] START batch_size=20, epochs=10....................................\n",
      "[CV 4/5; 4/9] END ..................batch_size=20, epochs=10; total time=   0.4s\n",
      "[CV 5/5; 4/9] START batch_size=20, epochs=10....................................\n",
      "[CV 5/5; 4/9] END ..................batch_size=20, epochs=10; total time=   0.5s\n",
      "[CV 1/5; 5/9] START batch_size=20, epochs=50....................................\n",
      "[CV 1/5; 5/9] END ..................batch_size=20, epochs=50; total time=   1.2s\n",
      "[CV 2/5; 5/9] START batch_size=20, epochs=50....................................\n",
      "[CV 2/5; 5/9] END ..................batch_size=20, epochs=50; total time=   1.1s\n",
      "[CV 3/5; 5/9] START batch_size=20, epochs=50....................................\n",
      "[CV 3/5; 5/9] END ..................batch_size=20, epochs=50; total time=   1.1s\n",
      "[CV 4/5; 5/9] START batch_size=20, epochs=50....................................\n",
      "[CV 4/5; 5/9] END ..................batch_size=20, epochs=50; total time=   1.1s\n",
      "[CV 5/5; 5/9] START batch_size=20, epochs=50....................................\n",
      "[CV 5/5; 5/9] END ..................batch_size=20, epochs=50; total time=   1.3s\n",
      "[CV 1/5; 6/9] START batch_size=20, epochs=100...................................\n",
      "[CV 1/5; 6/9] END .................batch_size=20, epochs=100; total time=   2.0s\n",
      "[CV 2/5; 6/9] START batch_size=20, epochs=100...................................\n",
      "[CV 2/5; 6/9] END .................batch_size=20, epochs=100; total time=   2.1s\n",
      "[CV 3/5; 6/9] START batch_size=20, epochs=100...................................\n",
      "[CV 3/5; 6/9] END .................batch_size=20, epochs=100; total time=   2.0s\n",
      "[CV 4/5; 6/9] START batch_size=20, epochs=100...................................\n",
      "[CV 4/5; 6/9] END .................batch_size=20, epochs=100; total time=   2.0s\n",
      "[CV 5/5; 6/9] START batch_size=20, epochs=100...................................\n",
      "[CV 5/5; 6/9] END .................batch_size=20, epochs=100; total time=   1.8s\n",
      "[CV 1/5; 7/9] START batch_size=40, epochs=10....................................\n",
      "[CV 1/5; 7/9] END ..................batch_size=40, epochs=10; total time=   0.3s\n",
      "[CV 2/5; 7/9] START batch_size=40, epochs=10....................................\n",
      "[CV 2/5; 7/9] END ..................batch_size=40, epochs=10; total time=   0.3s\n",
      "[CV 3/5; 7/9] START batch_size=40, epochs=10....................................\n",
      "[CV 3/5; 7/9] END ..................batch_size=40, epochs=10; total time=   0.3s\n",
      "[CV 4/5; 7/9] START batch_size=40, epochs=10....................................\n",
      "WARNING:tensorflow:5 out of the last 15 calls to <function Model.make_test_function.<locals>.test_function at 0x0000021F63623940> triggered tf.function retracing. Tracing is expensive and the excessive number of tracings could be due to (1) creating @tf.function repeatedly in a loop, (2) passing tensors with different shapes, (3) passing Python objects instead of tensors. For (1), please define your @tf.function outside of the loop. For (2), @tf.function has experimental_relax_shapes=True option that relaxes argument shapes that can avoid unnecessary retracing. For (3), please refer to https://www.tensorflow.org/guide/function#controlling_retracing and https://www.tensorflow.org/api_docs/python/tf/function for  more details.\n",
      "[CV 4/5; 7/9] END ..................batch_size=40, epochs=10; total time=   0.4s\n",
      "[CV 5/5; 7/9] START batch_size=40, epochs=10....................................\n",
      "WARNING:tensorflow:5 out of the last 13 calls to <function Model.make_test_function.<locals>.test_function at 0x0000021F6481B0D0> triggered tf.function retracing. Tracing is expensive and the excessive number of tracings could be due to (1) creating @tf.function repeatedly in a loop, (2) passing tensors with different shapes, (3) passing Python objects instead of tensors. For (1), please define your @tf.function outside of the loop. For (2), @tf.function has experimental_relax_shapes=True option that relaxes argument shapes that can avoid unnecessary retracing. For (3), please refer to https://www.tensorflow.org/guide/function#controlling_retracing and https://www.tensorflow.org/api_docs/python/tf/function for  more details.\n",
      "[CV 5/5; 7/9] END ..................batch_size=40, epochs=10; total time=   0.3s\n",
      "[CV 1/5; 8/9] START batch_size=40, epochs=50....................................\n",
      "[CV 1/5; 8/9] END ..................batch_size=40, epochs=50; total time=   0.9s\n",
      "[CV 2/5; 8/9] START batch_size=40, epochs=50....................................\n",
      "[CV 2/5; 8/9] END ..................batch_size=40, epochs=50; total time=   0.8s\n",
      "[CV 3/5; 8/9] START batch_size=40, epochs=50....................................\n",
      "[CV 3/5; 8/9] END ..................batch_size=40, epochs=50; total time=   0.7s\n",
      "[CV 4/5; 8/9] START batch_size=40, epochs=50....................................\n",
      "[CV 4/5; 8/9] END ..................batch_size=40, epochs=50; total time=   0.7s\n",
      "[CV 5/5; 8/9] START batch_size=40, epochs=50....................................\n",
      "[CV 5/5; 8/9] END ..................batch_size=40, epochs=50; total time=   0.7s\n",
      "[CV 1/5; 9/9] START batch_size=40, epochs=100...................................\n",
      "[CV 1/5; 9/9] END .................batch_size=40, epochs=100; total time=   1.2s\n",
      "[CV 2/5; 9/9] START batch_size=40, epochs=100...................................\n",
      "[CV 2/5; 9/9] END .................batch_size=40, epochs=100; total time=   1.4s\n",
      "[CV 3/5; 9/9] START batch_size=40, epochs=100...................................\n",
      "[CV 3/5; 9/9] END .................batch_size=40, epochs=100; total time=   1.4s\n",
      "[CV 4/5; 9/9] START batch_size=40, epochs=100...................................\n",
      "[CV 4/5; 9/9] END .................batch_size=40, epochs=100; total time=   1.3s\n",
      "[CV 5/5; 9/9] START batch_size=40, epochs=100...................................\n",
      "[CV 5/5; 9/9] END .................batch_size=40, epochs=100; total time=   1.5s\n"
     ]
    }
   ],
   "source": [
    "# Create the model\n",
    "model2 = KerasClassifier(create_model, verbose = 0)\n",
    "#Define the grid search parameters\n",
    "batch_size = [10,20,40]\n",
    "epochs = [10,50,100]\n",
    "#Make a dictonary of grid search parameters\n",
    "param_grid = dict(batch_size = batch_size,epochs=epochs)\n",
    "# Build and fit the GridSearchCV\n",
    "grid = GridSearchCV(estimator = model2,param_grid = param_grid,cv = KFold(),verbose = 10)\n",
    "grid_result = grid.fit(x_train,y_train)"
   ]
  },
  {
   "cell_type": "code",
   "execution_count": 39,
   "id": "bd7e3f6a",
   "metadata": {},
   "outputs": [
    {
     "name": "stdout",
     "output_type": "stream",
     "text": [
      "Best : 0.8789891362190246, using {'batch_size': 10, 'epochs': 100}\n",
      "0.7530414223670959,0.051299814390658 with: {'batch_size': 10, 'epochs': 10}\n",
      "0.8473993539810181,0.03147874734443163 with: {'batch_size': 10, 'epochs': 50}\n",
      "0.8789891362190246,0.026270452156471242 with: {'batch_size': 10, 'epochs': 100}\n",
      "0.7577725648880005,0.05731199034206623 with: {'batch_size': 20, 'epochs': 10}\n",
      "0.8280340790748596,0.047948870740191205 with: {'batch_size': 20, 'epochs': 50}\n",
      "0.8572142243385314,0.05378365765827631 with: {'batch_size': 20, 'epochs': 100}\n",
      "0.7334998488426209,0.03798376489706694 with: {'batch_size': 40, 'epochs': 10}\n",
      "0.779694390296936,0.03515258587293352 with: {'batch_size': 40, 'epochs': 50}\n",
      "0.852394950389862,0.03905925903309182 with: {'batch_size': 40, 'epochs': 100}\n"
     ]
    }
   ],
   "source": [
    "# Summarize the results\n",
    "print('Best : {}, using {}'.format(grid_result.best_score_,grid_result.best_params_))\n",
    "means = grid_result.cv_results_['mean_test_score']\n",
    "stds = grid_result.cv_results_['std_test_score']\n",
    "params = grid_result.cv_results_['params']\n",
    "for mean, stdev, param in zip(means, stds, params):\n",
    "  print('{},{} with: {}'.format(mean, stdev, param))"
   ]
  },
  {
   "cell_type": "markdown",
   "id": "d425cc91",
   "metadata": {},
   "source": [
    "### Hence, we can get the best score when the batch size is 10 and number of epochs are 100 "
   ]
  },
  {
   "cell_type": "markdown",
   "id": "01f180dd",
   "metadata": {},
   "source": [
    "## Tuning of Hyperparameter :-Number of Neurons in activation layer"
   ]
  },
  {
   "cell_type": "code",
   "execution_count": 41,
   "id": "8d1248ee",
   "metadata": {},
   "outputs": [],
   "source": [
    "# Defining the model\n",
    "\n",
    "def create_model1(neuron1,neuron2):\n",
    "    model3 = Sequential()\n",
    "    model3.add(Dense(neuron1, input_dim=28, activation='relu'))\n",
    "    model3.add(Dense(neuron2, activation='relu'))\n",
    "    model3.add(Dense(1,activation='sigmoid'))\n",
    "    \n",
    "    model3.compile(loss='binary_crossentropy', optimizer= 'adam', metrics=['accuracy'])\n",
    "    return model3"
   ]
  },
  {
   "cell_type": "code",
   "execution_count": 43,
   "id": "b194f53d",
   "metadata": {},
   "outputs": [
    {
     "name": "stdout",
     "output_type": "stream",
     "text": [
      "Fitting 5 folds for each of 9 candidates, totalling 45 fits\n",
      "[CV 1/5; 1/9] START neuron1=24, neuron2=20......................................\n",
      "[CV 1/5; 1/9] END ....................neuron1=24, neuron2=20; total time=   3.1s\n",
      "[CV 2/5; 1/9] START neuron1=24, neuron2=20......................................\n",
      "[CV 2/5; 1/9] END ....................neuron1=24, neuron2=20; total time=   3.2s\n",
      "[CV 3/5; 1/9] START neuron1=24, neuron2=20......................................\n",
      "[CV 3/5; 1/9] END ....................neuron1=24, neuron2=20; total time=   3.0s\n",
      "[CV 4/5; 1/9] START neuron1=24, neuron2=20......................................\n",
      "[CV 4/5; 1/9] END ....................neuron1=24, neuron2=20; total time=   3.2s\n",
      "[CV 5/5; 1/9] START neuron1=24, neuron2=20......................................\n",
      "[CV 5/5; 1/9] END ....................neuron1=24, neuron2=20; total time=   3.5s\n",
      "[CV 1/5; 2/9] START neuron1=24, neuron2=24......................................\n",
      "[CV 1/5; 2/9] END ....................neuron1=24, neuron2=24; total time=   3.4s\n",
      "[CV 2/5; 2/9] START neuron1=24, neuron2=24......................................\n",
      "[CV 2/5; 2/9] END ....................neuron1=24, neuron2=24; total time=   3.3s\n",
      "[CV 3/5; 2/9] START neuron1=24, neuron2=24......................................\n",
      "[CV 3/5; 2/9] END ....................neuron1=24, neuron2=24; total time=   3.3s\n",
      "[CV 4/5; 2/9] START neuron1=24, neuron2=24......................................\n",
      "[CV 4/5; 2/9] END ....................neuron1=24, neuron2=24; total time=   3.9s\n",
      "[CV 5/5; 2/9] START neuron1=24, neuron2=24......................................\n",
      "[CV 5/5; 2/9] END ....................neuron1=24, neuron2=24; total time=   3.7s\n",
      "[CV 1/5; 3/9] START neuron1=24, neuron2=28......................................\n",
      "[CV 1/5; 3/9] END ....................neuron1=24, neuron2=28; total time=   3.2s\n",
      "[CV 2/5; 3/9] START neuron1=24, neuron2=28......................................\n",
      "[CV 2/5; 3/9] END ....................neuron1=24, neuron2=28; total time=   2.9s\n",
      "[CV 3/5; 3/9] START neuron1=24, neuron2=28......................................\n",
      "[CV 3/5; 3/9] END ....................neuron1=24, neuron2=28; total time=   3.1s\n",
      "[CV 4/5; 3/9] START neuron1=24, neuron2=28......................................\n",
      "[CV 4/5; 3/9] END ....................neuron1=24, neuron2=28; total time=   3.6s\n",
      "[CV 5/5; 3/9] START neuron1=24, neuron2=28......................................\n",
      "[CV 5/5; 3/9] END ....................neuron1=24, neuron2=28; total time=   3.8s\n",
      "[CV 1/5; 4/9] START neuron1=28, neuron2=20......................................\n",
      "[CV 1/5; 4/9] END ....................neuron1=28, neuron2=20; total time=   3.4s\n",
      "[CV 2/5; 4/9] START neuron1=28, neuron2=20......................................\n",
      "[CV 2/5; 4/9] END ....................neuron1=28, neuron2=20; total time=   3.4s\n",
      "[CV 3/5; 4/9] START neuron1=28, neuron2=20......................................\n",
      "[CV 3/5; 4/9] END ....................neuron1=28, neuron2=20; total time=   3.1s\n",
      "[CV 4/5; 4/9] START neuron1=28, neuron2=20......................................\n",
      "[CV 4/5; 4/9] END ....................neuron1=28, neuron2=20; total time=   3.4s\n",
      "[CV 5/5; 4/9] START neuron1=28, neuron2=20......................................\n",
      "[CV 5/5; 4/9] END ....................neuron1=28, neuron2=20; total time=   3.6s\n",
      "[CV 1/5; 5/9] START neuron1=28, neuron2=24......................................\n",
      "[CV 1/5; 5/9] END ....................neuron1=28, neuron2=24; total time=   3.1s\n",
      "[CV 2/5; 5/9] START neuron1=28, neuron2=24......................................\n",
      "[CV 2/5; 5/9] END ....................neuron1=28, neuron2=24; total time=   3.2s\n",
      "[CV 3/5; 5/9] START neuron1=28, neuron2=24......................................\n",
      "[CV 3/5; 5/9] END ....................neuron1=28, neuron2=24; total time=   3.2s\n",
      "[CV 4/5; 5/9] START neuron1=28, neuron2=24......................................\n",
      "[CV 4/5; 5/9] END ....................neuron1=28, neuron2=24; total time=   3.6s\n",
      "[CV 5/5; 5/9] START neuron1=28, neuron2=24......................................\n",
      "[CV 5/5; 5/9] END ....................neuron1=28, neuron2=24; total time=   2.7s\n",
      "[CV 1/5; 6/9] START neuron1=28, neuron2=28......................................\n",
      "[CV 1/5; 6/9] END ....................neuron1=28, neuron2=28; total time=   3.2s\n",
      "[CV 2/5; 6/9] START neuron1=28, neuron2=28......................................\n",
      "[CV 2/5; 6/9] END ....................neuron1=28, neuron2=28; total time=   2.7s\n",
      "[CV 3/5; 6/9] START neuron1=28, neuron2=28......................................\n",
      "[CV 3/5; 6/9] END ....................neuron1=28, neuron2=28; total time=   3.4s\n",
      "[CV 4/5; 6/9] START neuron1=28, neuron2=28......................................\n",
      "[CV 4/5; 6/9] END ....................neuron1=28, neuron2=28; total time=   3.9s\n",
      "[CV 5/5; 6/9] START neuron1=28, neuron2=28......................................\n",
      "[CV 5/5; 6/9] END ....................neuron1=28, neuron2=28; total time=   3.6s\n",
      "[CV 1/5; 7/9] START neuron1=35, neuron2=20......................................\n",
      "[CV 1/5; 7/9] END ....................neuron1=35, neuron2=20; total time=   3.5s\n",
      "[CV 2/5; 7/9] START neuron1=35, neuron2=20......................................\n",
      "[CV 2/5; 7/9] END ....................neuron1=35, neuron2=20; total time=   3.2s\n",
      "[CV 3/5; 7/9] START neuron1=35, neuron2=20......................................\n",
      "[CV 3/5; 7/9] END ....................neuron1=35, neuron2=20; total time=   2.9s\n",
      "[CV 4/5; 7/9] START neuron1=35, neuron2=20......................................\n",
      "[CV 4/5; 7/9] END ....................neuron1=35, neuron2=20; total time=   3.7s\n",
      "[CV 5/5; 7/9] START neuron1=35, neuron2=20......................................\n",
      "[CV 5/5; 7/9] END ....................neuron1=35, neuron2=20; total time=   3.7s\n",
      "[CV 1/5; 8/9] START neuron1=35, neuron2=24......................................\n",
      "[CV 1/5; 8/9] END ....................neuron1=35, neuron2=24; total time=   3.2s\n",
      "[CV 2/5; 8/9] START neuron1=35, neuron2=24......................................\n",
      "[CV 2/5; 8/9] END ....................neuron1=35, neuron2=24; total time=   3.1s\n",
      "[CV 3/5; 8/9] START neuron1=35, neuron2=24......................................\n",
      "[CV 3/5; 8/9] END ....................neuron1=35, neuron2=24; total time=   3.0s\n",
      "[CV 4/5; 8/9] START neuron1=35, neuron2=24......................................\n",
      "[CV 4/5; 8/9] END ....................neuron1=35, neuron2=24; total time=   3.5s\n",
      "[CV 5/5; 8/9] START neuron1=35, neuron2=24......................................\n",
      "[CV 5/5; 8/9] END ....................neuron1=35, neuron2=24; total time=   3.4s\n",
      "[CV 1/5; 9/9] START neuron1=35, neuron2=28......................................\n",
      "[CV 1/5; 9/9] END ....................neuron1=35, neuron2=28; total time=   3.5s\n",
      "[CV 2/5; 9/9] START neuron1=35, neuron2=28......................................\n",
      "[CV 2/5; 9/9] END ....................neuron1=35, neuron2=28; total time=   3.5s\n",
      "[CV 3/5; 9/9] START neuron1=35, neuron2=28......................................\n",
      "[CV 3/5; 9/9] END ....................neuron1=35, neuron2=28; total time=   3.4s\n",
      "[CV 4/5; 9/9] START neuron1=35, neuron2=28......................................\n",
      "[CV 4/5; 9/9] END ....................neuron1=35, neuron2=28; total time=   3.6s\n",
      "[CV 5/5; 9/9] START neuron1=35, neuron2=28......................................\n",
      "[CV 5/5; 9/9] END ....................neuron1=35, neuron2=28; total time=   3.6s\n"
     ]
    }
   ],
   "source": [
    "# Create the model\n",
    "\n",
    "model4 = KerasClassifier(build_fn = create_model1,verbose = 0,batch_size = 10,epochs = 100)\n",
    "\n",
    "# Define the grid search parameters\n",
    "\n",
    "neuron1 = [24,28,35]\n",
    "neuron2 = [20,24,28]\n",
    "\n",
    "# Make a dictionary of the grid search parameters\n",
    "\n",
    "param_grids = dict(neuron1 = neuron1,neuron2 = neuron2)\n",
    "\n",
    "# Build and fit the GridSearchCV\n",
    "\n",
    "grid1 = GridSearchCV(estimator = model4,param_grid = param_grids,cv = KFold(),verbose = 10)\n",
    "grid_result1 = grid1.fit(x_train,y_train)"
   ]
  },
  {
   "cell_type": "code",
   "execution_count": 44,
   "id": "f7c416a3",
   "metadata": {},
   "outputs": [
    {
     "name": "stdout",
     "output_type": "stream",
     "text": [
      "Best : 0.8984131693840027, using {'neuron1': 28, 'neuron2': 24}\n",
      "0.8667939901351929,0.03425355327998186 with: {'neuron1': 24, 'neuron2': 20}\n",
      "0.8715545177459717,0.04152004463462875 with: {'neuron1': 24, 'neuron2': 24}\n",
      "0.8813694000244141,0.020856822231810342 with: {'neuron1': 24, 'neuron2': 28}\n",
      "0.8885982990264892,0.038080280514960096 with: {'neuron1': 28, 'neuron2': 20}\n",
      "0.8984131693840027,0.028971739742265308 with: {'neuron1': 28, 'neuron2': 24}\n",
      "0.8886276960372925,0.025934887803378662 with: {'neuron1': 28, 'neuron2': 28}\n",
      "0.8619747281074523,0.029453286819559967 with: {'neuron1': 35, 'neuron2': 20}\n",
      "0.8910373091697693,0.04060785362176442 with: {'neuron1': 35, 'neuron2': 24}\n",
      "0.8886276721954346,0.03634958913531686 with: {'neuron1': 35, 'neuron2': 28}\n"
     ]
    }
   ],
   "source": [
    "# Summarize the results\n",
    "print('Best : {}, using {}'.format(grid_result1.best_score_,grid_result1.best_params_))\n",
    "means = grid_result1.cv_results_['mean_test_score']\n",
    "stds = grid_result1.cv_results_['std_test_score']\n",
    "params = grid_result1.cv_results_['params']\n",
    "for mean, stdev, param in zip(means, stds, params):\n",
    "  print('{},{} with: {}'.format(mean, stdev, param))"
   ]
  },
  {
   "cell_type": "markdown",
   "id": "40b91d90",
   "metadata": {},
   "source": [
    "### Hence, we can get best result when there are 28 neurons in the 1st layer and 24 neurons in the second layer with a score of 0.89"
   ]
  },
  {
   "cell_type": "markdown",
   "id": "11ce28d8",
   "metadata": {},
   "source": [
    "## Tuning of Hyperparameters:- Activation Function"
   ]
  },
  {
   "cell_type": "code",
   "execution_count": 60,
   "id": "57242568",
   "metadata": {},
   "outputs": [],
   "source": [
    "# Defining the model\n",
    "\n",
    "def create_model2(activation_function):\n",
    "    model5 = Sequential()\n",
    "    model5.add(Dense(28, input_dim=28, activation=activation_function))\n",
    "    model5.add(Dense(24, activation=activation_function))\n",
    "    model5.add(Dense(1,activation= 'sigmoid'))\n",
    "    \n",
    "    model5.compile(loss='binary_crossentropy', optimizer= 'adam', metrics=['accuracy'])\n",
    "    return model5"
   ]
  },
  {
   "cell_type": "code",
   "execution_count": 63,
   "id": "0a99a3dd",
   "metadata": {},
   "outputs": [
    {
     "name": "stdout",
     "output_type": "stream",
     "text": [
      "Fitting 5 folds for each of 3 candidates, totalling 15 fits\n",
      "[CV 1/5; 1/3] START activation_function=softmax.................................\n",
      "[CV 1/5; 1/3] END ...............activation_function=softmax; total time=   3.3s\n",
      "[CV 2/5; 1/3] START activation_function=softmax.................................\n",
      "[CV 2/5; 1/3] END ...............activation_function=softmax; total time=   3.3s\n",
      "[CV 3/5; 1/3] START activation_function=softmax.................................\n",
      "[CV 3/5; 1/3] END ...............activation_function=softmax; total time=   3.1s\n",
      "[CV 4/5; 1/3] START activation_function=softmax.................................\n",
      "[CV 4/5; 1/3] END ...............activation_function=softmax; total time=   4.0s\n",
      "[CV 5/5; 1/3] START activation_function=softmax.................................\n",
      "[CV 5/5; 1/3] END ...............activation_function=softmax; total time=   4.0s\n",
      "[CV 1/5; 2/3] START activation_function=relu....................................\n",
      "[CV 1/5; 2/3] END ..................activation_function=relu; total time=   3.4s\n",
      "[CV 2/5; 2/3] START activation_function=relu....................................\n",
      "[CV 2/5; 2/3] END ..................activation_function=relu; total time=   3.2s\n",
      "[CV 3/5; 2/3] START activation_function=relu....................................\n",
      "[CV 3/5; 2/3] END ..................activation_function=relu; total time=   3.1s\n",
      "[CV 4/5; 2/3] START activation_function=relu....................................\n",
      "[CV 4/5; 2/3] END ..................activation_function=relu; total time=   3.9s\n",
      "[CV 5/5; 2/3] START activation_function=relu....................................\n",
      "[CV 5/5; 2/3] END ..................activation_function=relu; total time=   3.5s\n",
      "[CV 1/5; 3/3] START activation_function=tanh....................................\n",
      "[CV 1/5; 3/3] END ..................activation_function=tanh; total time=   3.4s\n",
      "[CV 2/5; 3/3] START activation_function=tanh....................................\n",
      "[CV 2/5; 3/3] END ..................activation_function=tanh; total time=   3.1s\n",
      "[CV 3/5; 3/3] START activation_function=tanh....................................\n",
      "[CV 3/5; 3/3] END ..................activation_function=tanh; total time=   3.5s\n",
      "[CV 4/5; 3/3] START activation_function=tanh....................................\n",
      "[CV 4/5; 3/3] END ..................activation_function=tanh; total time=   3.4s\n",
      "[CV 5/5; 3/3] START activation_function=tanh....................................\n",
      "[CV 5/5; 3/3] END ..................activation_function=tanh; total time=   3.7s\n"
     ]
    }
   ],
   "source": [
    "# Create the model\n",
    "\n",
    "model6 = KerasClassifier(build_fn = create_model2,verbose = 0,batch_size = 10,epochs = 100)\n",
    "\n",
    "# Define the grid search parameters\n",
    "activation_function = ['softmax','relu','tanh']\n",
    "\n",
    "# Make a dictionary of the grid search parameters\n",
    "param_grids = dict(activation_function = activation_function)\n",
    "\n",
    "# Build and fit the GridSearchCV\n",
    "\n",
    "grid2 = GridSearchCV(estimator = model6 ,param_grid = param_grids,cv = KFold(),verbose = 10)\n",
    "grid_result2 = grid2.fit(x_train,y_train)"
   ]
  },
  {
   "cell_type": "code",
   "execution_count": 64,
   "id": "088747eb",
   "metadata": {},
   "outputs": [
    {
     "name": "stdout",
     "output_type": "stream",
     "text": [
      "Best : 0.9225389242172242, using {'activation_function': 'tanh'}\n",
      "0.8014399170875549,0.05151291469446609 with: {'activation_function': 'softmax'}\n",
      "0.8788715958595276,0.020593067880778703 with: {'activation_function': 'relu'}\n",
      "0.9225389242172242,0.028271455921839467 with: {'activation_function': 'tanh'}\n"
     ]
    }
   ],
   "source": [
    "# Summarize the results\n",
    "print('Best : {}, using {}'.format(grid_result2.best_score_,grid_result2.best_params_))\n",
    "means = grid_result2.cv_results_['mean_test_score']\n",
    "stds = grid_result2.cv_results_['std_test_score']\n",
    "params = grid_result2.cv_results_['params']\n",
    "for mean, stdev, param in zip(means, stds, params):\n",
    "  print('{},{} with: {}'.format(mean, stdev, param))"
   ]
  },
  {
   "cell_type": "code",
   "execution_count": null,
   "id": "2a148fca",
   "metadata": {},
   "outputs": [],
   "source": []
  }
 ],
 "metadata": {
  "kernelspec": {
   "display_name": "Python 3",
   "language": "python",
   "name": "python3"
  },
  "language_info": {
   "codemirror_mode": {
    "name": "ipython",
    "version": 3
   },
   "file_extension": ".py",
   "mimetype": "text/x-python",
   "name": "python",
   "nbconvert_exporter": "python",
   "pygments_lexer": "ipython3",
   "version": "3.8.8"
  }
 },
 "nbformat": 4,
 "nbformat_minor": 5
}
