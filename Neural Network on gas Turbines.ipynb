{
 "cells": [
  {
   "cell_type": "markdown",
   "id": "162798c0",
   "metadata": {},
   "source": [
    "## Importing necessary libraries"
   ]
  },
  {
   "cell_type": "code",
   "execution_count": 1,
   "id": "c9b8bbe0",
   "metadata": {},
   "outputs": [],
   "source": [
    "import pandas as pd \n",
    "from sklearn.preprocessing import LabelEncoder\n",
    "from sklearn.preprocessing import StandardScaler\n",
    "from sklearn.model_selection import train_test_split\n",
    "import numpy as np\n",
    "import matplotlib.pyplot as plt\n",
    "from sklearn.metrics import mean_squared_error\n",
    "\n",
    "from keras.models import Sequential\n",
    "from keras.layers import Dense"
   ]
  },
  {
   "cell_type": "markdown",
   "id": "9add091a",
   "metadata": {},
   "source": [
    "## Importing dataset"
   ]
  },
  {
   "cell_type": "code",
   "execution_count": 2,
   "id": "0d77d8db",
   "metadata": {},
   "outputs": [
    {
     "data": {
      "text/html": [
       "<div>\n",
       "<style scoped>\n",
       "    .dataframe tbody tr th:only-of-type {\n",
       "        vertical-align: middle;\n",
       "    }\n",
       "\n",
       "    .dataframe tbody tr th {\n",
       "        vertical-align: top;\n",
       "    }\n",
       "\n",
       "    .dataframe thead th {\n",
       "        text-align: right;\n",
       "    }\n",
       "</style>\n",
       "<table border=\"1\" class=\"dataframe\">\n",
       "  <thead>\n",
       "    <tr style=\"text-align: right;\">\n",
       "      <th></th>\n",
       "      <th>AT</th>\n",
       "      <th>AP</th>\n",
       "      <th>AH</th>\n",
       "      <th>AFDP</th>\n",
       "      <th>GTEP</th>\n",
       "      <th>TIT</th>\n",
       "      <th>TAT</th>\n",
       "      <th>TEY</th>\n",
       "      <th>CDP</th>\n",
       "      <th>CO</th>\n",
       "      <th>NOX</th>\n",
       "    </tr>\n",
       "  </thead>\n",
       "  <tbody>\n",
       "    <tr>\n",
       "      <th>0</th>\n",
       "      <td>6.8594</td>\n",
       "      <td>1007.9</td>\n",
       "      <td>96.799</td>\n",
       "      <td>3.5000</td>\n",
       "      <td>19.663</td>\n",
       "      <td>1059.2</td>\n",
       "      <td>550.00</td>\n",
       "      <td>114.70</td>\n",
       "      <td>10.605</td>\n",
       "      <td>3.1547</td>\n",
       "      <td>82.722</td>\n",
       "    </tr>\n",
       "    <tr>\n",
       "      <th>1</th>\n",
       "      <td>6.7850</td>\n",
       "      <td>1008.4</td>\n",
       "      <td>97.118</td>\n",
       "      <td>3.4998</td>\n",
       "      <td>19.728</td>\n",
       "      <td>1059.3</td>\n",
       "      <td>550.00</td>\n",
       "      <td>114.72</td>\n",
       "      <td>10.598</td>\n",
       "      <td>3.2363</td>\n",
       "      <td>82.776</td>\n",
       "    </tr>\n",
       "    <tr>\n",
       "      <th>2</th>\n",
       "      <td>6.8977</td>\n",
       "      <td>1008.8</td>\n",
       "      <td>95.939</td>\n",
       "      <td>3.4824</td>\n",
       "      <td>19.779</td>\n",
       "      <td>1059.4</td>\n",
       "      <td>549.87</td>\n",
       "      <td>114.71</td>\n",
       "      <td>10.601</td>\n",
       "      <td>3.2012</td>\n",
       "      <td>82.468</td>\n",
       "    </tr>\n",
       "    <tr>\n",
       "      <th>3</th>\n",
       "      <td>7.0569</td>\n",
       "      <td>1009.2</td>\n",
       "      <td>95.249</td>\n",
       "      <td>3.4805</td>\n",
       "      <td>19.792</td>\n",
       "      <td>1059.6</td>\n",
       "      <td>549.99</td>\n",
       "      <td>114.72</td>\n",
       "      <td>10.606</td>\n",
       "      <td>3.1923</td>\n",
       "      <td>82.670</td>\n",
       "    </tr>\n",
       "    <tr>\n",
       "      <th>4</th>\n",
       "      <td>7.3978</td>\n",
       "      <td>1009.7</td>\n",
       "      <td>95.150</td>\n",
       "      <td>3.4976</td>\n",
       "      <td>19.765</td>\n",
       "      <td>1059.7</td>\n",
       "      <td>549.98</td>\n",
       "      <td>114.72</td>\n",
       "      <td>10.612</td>\n",
       "      <td>3.2484</td>\n",
       "      <td>82.311</td>\n",
       "    </tr>\n",
       "  </tbody>\n",
       "</table>\n",
       "</div>"
      ],
      "text/plain": [
       "       AT      AP      AH    AFDP    GTEP     TIT     TAT     TEY     CDP  \\\n",
       "0  6.8594  1007.9  96.799  3.5000  19.663  1059.2  550.00  114.70  10.605   \n",
       "1  6.7850  1008.4  97.118  3.4998  19.728  1059.3  550.00  114.72  10.598   \n",
       "2  6.8977  1008.8  95.939  3.4824  19.779  1059.4  549.87  114.71  10.601   \n",
       "3  7.0569  1009.2  95.249  3.4805  19.792  1059.6  549.99  114.72  10.606   \n",
       "4  7.3978  1009.7  95.150  3.4976  19.765  1059.7  549.98  114.72  10.612   \n",
       "\n",
       "       CO     NOX  \n",
       "0  3.1547  82.722  \n",
       "1  3.2363  82.776  \n",
       "2  3.2012  82.468  \n",
       "3  3.1923  82.670  \n",
       "4  3.2484  82.311  "
      ]
     },
     "execution_count": 2,
     "metadata": {},
     "output_type": "execute_result"
    }
   ],
   "source": [
    "# fix random seed for reproducibility\n",
    "seed = 7\n",
    "np.random.seed(seed)\n",
    "\n",
    "data = pd.read_csv('gas_turbines.csv',sep=',')\n",
    "data.head()"
   ]
  },
  {
   "cell_type": "markdown",
   "id": "75008228",
   "metadata": {},
   "source": [
    "## Data Exploration and Data Understanding"
   ]
  },
  {
   "cell_type": "markdown",
   "id": "92f8c637",
   "metadata": {},
   "source": [
    "### Understanding about data\n",
    "\n",
    "Gas turbines are used to produce electricity by  using natural gas and compressed air. Here, natural gas is injected which mixes with the compressed air and ignited. The combustion produces a high-pressure, hot gas stream that flows through the turbine causing it to spin (at tremendous speeds). Consequently, this spins a generator which is connected to the turbine to produce electricity.\n",
    "\n",
    "The Output of the power plant is dependent on few parameters which are atmospheric pressure, exhaust steam pressure, ambient temperature, and relative humidity.\n",
    "\n",
    "CO and NOX are basically the emissions from the gas Turbine. \n",
    "\n",
    "\n",
    "Attribute Information:\n",
    "\n",
    "The explanations of sensor measurements and their brief statistics are given below.\n",
    "\n",
    "* Variable (Abbr.) Unit Min Max Mean\n",
    "* Ambient temperature (AT) C â€“6.23 37.10 17.71\n",
    "* Ambient pressure (AP) mbar 985.85 1036.56 1013.07\n",
    "* Ambient humidity (AH) (%) 24.08 100.20 77.87\n",
    "* Air filter difference pressure (AFDP) mbar 2.09 7.61 3.93\n",
    "* Gas turbine exhaust pressure (GTEP) mbar 17.70 40.72 25.56\n",
    "* Turbine inlet temperature (TIT) C 1000.85 1100.89 1081.43\n",
    "* Turbine after temperature (TAT) C 511.04 550.61 546.16\n",
    "* Compressor discharge pressure (CDP) mbar 9.85 15.16 12.06\n",
    "* Turbine energy yield (TEY) MWH 100.02 179.50 133.51\n",
    "* Carbon monoxide (CO) mg/m3 0.00 44.10 2.37\n",
    "* Nitrogen oxides (NOx) mg/m3 25.90 119.91 65.29\n",
    "\n",
    "#### Input Variables \n",
    "\n",
    "\n",
    "* Since we are suppose to take only ambient features for prediction, my input variables will be \n",
    "1. Ambient temperature\n",
    "2. Ambient pressure\n",
    "3. Ambient humidity\n",
    "\n",
    "As, all the other features seems to be the gas turbine parameters, I am exculding them as of now. \n",
    "\n",
    "\n",
    "#### Output Variable\n",
    "\n",
    "* Turbine energy yield"
   ]
  },
  {
   "cell_type": "code",
   "execution_count": 3,
   "id": "41b10ace",
   "metadata": {},
   "outputs": [
    {
     "data": {
      "text/plain": [
       "(15039, 11)"
      ]
     },
     "execution_count": 3,
     "metadata": {},
     "output_type": "execute_result"
    }
   ],
   "source": [
    "data.shape"
   ]
  },
  {
   "cell_type": "code",
   "execution_count": 4,
   "id": "57db0ee8",
   "metadata": {},
   "outputs": [
    {
     "data": {
      "text/plain": [
       "AT      0\n",
       "AP      0\n",
       "AH      0\n",
       "AFDP    0\n",
       "GTEP    0\n",
       "TIT     0\n",
       "TAT     0\n",
       "TEY     0\n",
       "CDP     0\n",
       "CO      0\n",
       "NOX     0\n",
       "dtype: int64"
      ]
     },
     "execution_count": 4,
     "metadata": {},
     "output_type": "execute_result"
    }
   ],
   "source": [
    "data.isnull().sum()"
   ]
  },
  {
   "cell_type": "code",
   "execution_count": 5,
   "id": "47dc1425",
   "metadata": {},
   "outputs": [
    {
     "data": {
      "text/plain": [
       "AT      float64\n",
       "AP      float64\n",
       "AH      float64\n",
       "AFDP    float64\n",
       "GTEP    float64\n",
       "TIT     float64\n",
       "TAT     float64\n",
       "TEY     float64\n",
       "CDP     float64\n",
       "CO      float64\n",
       "NOX     float64\n",
       "dtype: object"
      ]
     },
     "execution_count": 5,
     "metadata": {},
     "output_type": "execute_result"
    }
   ],
   "source": [
    "data.dtypes"
   ]
  },
  {
   "cell_type": "markdown",
   "id": "533b40c1",
   "metadata": {},
   "source": [
    "## Data Preparation"
   ]
  },
  {
   "cell_type": "code",
   "execution_count": 6,
   "id": "1d7bad23",
   "metadata": {},
   "outputs": [],
   "source": [
    "X = data[['AT','AP','AH']]\n",
    "Y = data[['TEY']]"
   ]
  },
  {
   "cell_type": "code",
   "execution_count": 7,
   "id": "221c1c72",
   "metadata": {},
   "outputs": [
    {
     "data": {
      "text/plain": [
       "array([[-1.4397781 , -0.82664395,  1.28143632],\n",
       "       [-1.44960109, -0.74864748,  1.30456402],\n",
       "       [-1.43472138, -0.68625031,  1.21908576],\n",
       "       ...,\n",
       "       [-1.38626659, -1.07623263,  1.47697056],\n",
       "       [-1.42042259, -0.99823616,  1.44159024],\n",
       "       [-1.43073409, -0.93583899,  1.33465179]])"
      ]
     },
     "execution_count": 7,
     "metadata": {},
     "output_type": "execute_result"
    }
   ],
   "source": [
    "scalar = StandardScaler()\n",
    "x_scaled = scalar.fit_transform(X)\n",
    "x_scaled"
   ]
  },
  {
   "cell_type": "code",
   "execution_count": 8,
   "id": "1523ba82",
   "metadata": {},
   "outputs": [
    {
     "data": {
      "text/plain": [
       "-5.997177865936258e-15"
      ]
     },
     "execution_count": 8,
     "metadata": {},
     "output_type": "execute_result"
    }
   ],
   "source": [
    "x_scaled.mean()"
   ]
  },
  {
   "cell_type": "code",
   "execution_count": 9,
   "id": "819610a2",
   "metadata": {},
   "outputs": [
    {
     "data": {
      "text/plain": [
       "1.0"
      ]
     },
     "execution_count": 9,
     "metadata": {},
     "output_type": "execute_result"
    }
   ],
   "source": [
    "x_scaled.std()"
   ]
  },
  {
   "cell_type": "markdown",
   "id": "3e141828",
   "metadata": {},
   "source": [
    "## Model 1 - with three input variables and 1 output variable "
   ]
  },
  {
   "cell_type": "markdown",
   "id": "aebf7dcb",
   "metadata": {},
   "source": [
    "## Model Building "
   ]
  },
  {
   "cell_type": "code",
   "execution_count": 10,
   "id": "271b54e9",
   "metadata": {},
   "outputs": [
    {
     "data": {
      "text/plain": [
       "((12031, 3), (3008, 3), (12031, 1), (3008, 1))"
      ]
     },
     "execution_count": 10,
     "metadata": {},
     "output_type": "execute_result"
    }
   ],
   "source": [
    "x_train,x_test,y_train,y_test = train_test_split(x_scaled,Y,test_size=0.20,random_state=12)\n",
    "x_train.shape,x_test.shape,y_train.shape,y_test.shape"
   ]
  },
  {
   "cell_type": "code",
   "execution_count": 11,
   "id": "85d25f04",
   "metadata": {},
   "outputs": [],
   "source": [
    "model = Sequential()\n",
    "model.add(Dense(3, input_dim=3, activation='relu'))\n",
    "model.add(Dense(3, activation='relu'))\n",
    "model.add(Dense(1,activation='linear'))"
   ]
  },
  {
   "cell_type": "code",
   "execution_count": 12,
   "id": "8b773616",
   "metadata": {},
   "outputs": [],
   "source": [
    "# Compiling the model \n",
    "model.compile(loss='mean_squared_error',optimizer='adam', metrics=['mean_squared_error'])"
   ]
  },
  {
   "cell_type": "markdown",
   "id": "8bcf24c6",
   "metadata": {},
   "source": [
    "## Model Training "
   ]
  },
  {
   "cell_type": "code",
   "execution_count": 13,
   "id": "02fe7df4",
   "metadata": {},
   "outputs": [
    {
     "name": "stdout",
     "output_type": "stream",
     "text": [
      "Epoch 1/20\n",
      "376/376 [==============================] - 1s 1ms/step - loss: 18200.2617 - mean_squared_error: 18200.2617\n",
      "Epoch 2/20\n",
      "376/376 [==============================] - 0s 1ms/step - loss: 17123.2891 - mean_squared_error: 17123.2891\n",
      "Epoch 3/20\n",
      "376/376 [==============================] - 0s 979us/step - loss: 13016.0986 - mean_squared_error: 13016.0986\n",
      "Epoch 4/20\n",
      "376/376 [==============================] - 0s 853us/step - loss: 6281.2314 - mean_squared_error: 6281.2314\n",
      "Epoch 5/20\n",
      "376/376 [==============================] - 0s 928us/step - loss: 2502.1165 - mean_squared_error: 2502.1165\n",
      "Epoch 6/20\n",
      "376/376 [==============================] - 0s 1ms/step - loss: 1183.2935 - mean_squared_error: 1183.2935\n",
      "Epoch 7/20\n",
      "376/376 [==============================] - 0s 983us/step - loss: 703.3576 - mean_squared_error: 703.3576\n",
      "Epoch 8/20\n",
      "376/376 [==============================] - 0s 991us/step - loss: 490.0306 - mean_squared_error: 490.0306\n",
      "Epoch 9/20\n",
      "376/376 [==============================] - 0s 956us/step - loss: 377.3493 - mean_squared_error: 377.3493\n",
      "Epoch 10/20\n",
      "376/376 [==============================] - 0s 1ms/step - loss: 312.6463 - mean_squared_error: 312.6463\n",
      "Epoch 11/20\n",
      "376/376 [==============================] - 0s 896us/step - loss: 274.6474 - mean_squared_error: 274.6474\n",
      "Epoch 12/20\n",
      "376/376 [==============================] - 0s 1ms/step - loss: 252.6452 - mean_squared_error: 252.6452\n",
      "Epoch 13/20\n",
      "376/376 [==============================] - 0s 1ms/step - loss: 239.6830 - mean_squared_error: 239.6830\n",
      "Epoch 14/20\n",
      "376/376 [==============================] - 0s 843us/step - loss: 232.1540 - mean_squared_error: 232.1540\n",
      "Epoch 15/20\n",
      "376/376 [==============================] - 0s 877us/step - loss: 227.8900 - mean_squared_error: 227.8900\n",
      "Epoch 16/20\n",
      "376/376 [==============================] - 0s 960us/step - loss: 225.2946 - mean_squared_error: 225.2946\n",
      "Epoch 17/20\n",
      "376/376 [==============================] - 0s 919us/step - loss: 223.9180 - mean_squared_error: 223.9180\n",
      "Epoch 18/20\n",
      "376/376 [==============================] - 0s 1ms/step - loss: 222.7889 - mean_squared_error: 222.7889\n",
      "Epoch 19/20\n",
      "376/376 [==============================] - 0s 1ms/step - loss: 222.2444 - mean_squared_error: 222.2444\n",
      "Epoch 20/20\n",
      "376/376 [==============================] - 0s 948us/step - loss: 221.7508 - mean_squared_error: 221.7508\n"
     ]
    },
    {
     "data": {
      "text/plain": [
       "<keras.callbacks.History at 0x1ee41f6e5b0>"
      ]
     },
     "execution_count": 13,
     "metadata": {},
     "output_type": "execute_result"
    }
   ],
   "source": [
    "# Fit the model\n",
    "model.fit(x_train, y_train, epochs=20)"
   ]
  },
  {
   "cell_type": "markdown",
   "id": "fae56b86",
   "metadata": {},
   "source": [
    "## Model Testing"
   ]
  },
  {
   "cell_type": "code",
   "execution_count": 14,
   "id": "7199dd92",
   "metadata": {},
   "outputs": [],
   "source": [
    "#  prediction using training dataset\n",
    "y_pedict_train = model.predict(x_train)"
   ]
  },
  {
   "cell_type": "code",
   "execution_count": 15,
   "id": "7e3d86cf",
   "metadata": {},
   "outputs": [],
   "source": [
    "# prediction using testing dataset\n",
    "y_pedict_test = model.predict(x_test)"
   ]
  },
  {
   "cell_type": "markdown",
   "id": "819bc91b",
   "metadata": {},
   "source": [
    "## Model Evaluation"
   ]
  },
  {
   "cell_type": "code",
   "execution_count": 16,
   "id": "b91a107d",
   "metadata": {},
   "outputs": [
    {
     "name": "stdout",
     "output_type": "stream",
     "text": [
      "14.880785265514385\n"
     ]
    }
   ],
   "source": [
    "print(np.sqrt(mean_squared_error(y_train,y_pedict_train)))"
   ]
  },
  {
   "cell_type": "code",
   "execution_count": 17,
   "id": "7c5b18a9",
   "metadata": {},
   "outputs": [
    {
     "name": "stdout",
     "output_type": "stream",
     "text": [
      "15.003314442879946\n"
     ]
    }
   ],
   "source": [
    "print(np.sqrt(mean_squared_error(y_test,y_pedict_test))) "
   ]
  },
  {
   "cell_type": "markdown",
   "id": "9dfb5bdd",
   "metadata": {},
   "source": [
    "#### OBSERVATION \n",
    "\n",
    "Our model is achieving a stable performance with not much variance in the train and test set RMSE."
   ]
  },
  {
   "cell_type": "markdown",
   "id": "499df43c",
   "metadata": {},
   "source": [
    "## Model 2 - with 10 input variables and 1 output variable "
   ]
  },
  {
   "cell_type": "markdown",
   "id": "c7393b3e",
   "metadata": {},
   "source": [
    "## Now Changing my input variables \n",
    "\n",
    "### Input Varibles\n",
    "\n",
    "* Ambient temperature \n",
    "* Ambient pressure \n",
    "* Ambient humidity \n",
    "* Air filter difference pressure \n",
    "* Gas turbine exhaust pressure \n",
    "* Turbine inlet temperature \n",
    "* Turbine after temperature \n",
    "* Compressor discharge pressure \n",
    "* Carbon monoxide \n",
    "* Nitrogen oxides \n",
    "\n",
    "### Output variable\n",
    "\n",
    "* Turbine energy yield"
   ]
  },
  {
   "cell_type": "code",
   "execution_count": 18,
   "id": "b911f62d",
   "metadata": {},
   "outputs": [],
   "source": [
    "x = data.drop('TEY',axis= 1)\n",
    "y = data[['TEY']]"
   ]
  },
  {
   "cell_type": "code",
   "execution_count": 20,
   "id": "2b1d5d8e",
   "metadata": {},
   "outputs": [
    {
     "data": {
      "text/plain": [
       "array([[-1.4397781 , -0.82664395,  1.28143632, ..., -1.35733078,\n",
       "         0.53201195,  1.3878449 ],\n",
       "       [-1.44960109, -0.74864748,  1.30456402, ..., -1.36367619,\n",
       "         0.56873344,  1.39300237],\n",
       "       [-1.43472138, -0.68625031,  1.21908576, ..., -1.36095673,\n",
       "         0.5529378 ,  1.36358566],\n",
       "       ...,\n",
       "       [-1.38626659, -1.07623263,  1.47697056, ..., -1.46792219,\n",
       "         2.69592467,  2.17006209],\n",
       "       [-1.42042259, -0.99823616,  1.44159024, ..., -1.42259784,\n",
       "         1.9246834 ,  2.391165  ],\n",
       "       [-1.43073409, -0.93583899,  1.33465179, ..., -1.37727349,\n",
       "         1.35415028,  2.32153907]])"
      ]
     },
     "execution_count": 20,
     "metadata": {},
     "output_type": "execute_result"
    }
   ],
   "source": [
    "scalar1 = StandardScaler()\n",
    "x_scaled1 = scalar1.fit_transform(x)\n",
    "x_scaled1"
   ]
  },
  {
   "cell_type": "code",
   "execution_count": 21,
   "id": "5aa051ce",
   "metadata": {},
   "outputs": [
    {
     "data": {
      "text/plain": [
       "-1.8868431874004496e-15"
      ]
     },
     "execution_count": 21,
     "metadata": {},
     "output_type": "execute_result"
    }
   ],
   "source": [
    "x_scaled1.mean()"
   ]
  },
  {
   "cell_type": "code",
   "execution_count": 22,
   "id": "b24b68cf",
   "metadata": {},
   "outputs": [
    {
     "data": {
      "text/plain": [
       "1.0"
      ]
     },
     "execution_count": 22,
     "metadata": {},
     "output_type": "execute_result"
    }
   ],
   "source": [
    "x_scaled1.std()"
   ]
  },
  {
   "cell_type": "markdown",
   "id": "25b69947",
   "metadata": {},
   "source": [
    "## Model Building"
   ]
  },
  {
   "cell_type": "code",
   "execution_count": 23,
   "id": "b1c0ce24",
   "metadata": {},
   "outputs": [
    {
     "data": {
      "text/plain": [
       "((12031, 10), (3008, 10), (12031, 1), (3008, 1))"
      ]
     },
     "execution_count": 23,
     "metadata": {},
     "output_type": "execute_result"
    }
   ],
   "source": [
    "X_train,X_test,Y_train,Y_test = train_test_split(x_scaled1,y,test_size=0.20,random_state=12)\n",
    "X_train.shape,X_test.shape,Y_train.shape,Y_test.shape"
   ]
  },
  {
   "cell_type": "code",
   "execution_count": 25,
   "id": "e5248897",
   "metadata": {},
   "outputs": [],
   "source": [
    "model1 = Sequential()\n",
    "model1.add(Dense(10, input_dim=10, activation='relu'))\n",
    "model1.add(Dense(10, activation='relu'))\n",
    "model1.add(Dense(1,activation='linear'))"
   ]
  },
  {
   "cell_type": "code",
   "execution_count": 26,
   "id": "3171d1ed",
   "metadata": {},
   "outputs": [],
   "source": [
    "# Compiling the model \n",
    "model1.compile(loss='mean_squared_error',optimizer='adam', metrics=['mean_squared_error'])"
   ]
  },
  {
   "cell_type": "markdown",
   "id": "2c1bb632",
   "metadata": {},
   "source": [
    "## Model Training"
   ]
  },
  {
   "cell_type": "code",
   "execution_count": 27,
   "id": "2cfeb645",
   "metadata": {},
   "outputs": [
    {
     "name": "stdout",
     "output_type": "stream",
     "text": [
      "Epoch 1/20\n",
      "376/376 [==============================] - 1s 1ms/step - loss: 14336.6025 - mean_squared_error: 14336.6025\n",
      "Epoch 2/20\n",
      "376/376 [==============================] - 0s 1ms/step - loss: 2017.9061 - mean_squared_error: 2017.9061\n",
      "Epoch 3/20\n",
      "376/376 [==============================] - 0s 1ms/step - loss: 433.6587 - mean_squared_error: 433.6587\n",
      "Epoch 4/20\n",
      "376/376 [==============================] - 0s 1ms/step - loss: 256.0915 - mean_squared_error: 256.0915\n",
      "Epoch 5/20\n",
      "376/376 [==============================] - 0s 1ms/step - loss: 171.3279 - mean_squared_error: 171.3279\n",
      "Epoch 6/20\n",
      "376/376 [==============================] - 0s 1ms/step - loss: 126.5580 - mean_squared_error: 126.5580\n",
      "Epoch 7/20\n",
      "376/376 [==============================] - 0s 1ms/step - loss: 98.5466 - mean_squared_error: 98.5466\n",
      "Epoch 8/20\n",
      "376/376 [==============================] - 0s 1ms/step - loss: 78.1733 - mean_squared_error: 78.1733\n",
      "Epoch 9/20\n",
      "376/376 [==============================] - 0s 1ms/step - loss: 63.2423 - mean_squared_error: 63.2423\n",
      "Epoch 10/20\n",
      "376/376 [==============================] - 0s 1ms/step - loss: 51.8823 - mean_squared_error: 51.8823\n",
      "Epoch 11/20\n",
      "376/376 [==============================] - 0s 1ms/step - loss: 42.8890 - mean_squared_error: 42.8890\n",
      "Epoch 12/20\n",
      "376/376 [==============================] - 0s 970us/step - loss: 35.0752 - mean_squared_error: 35.0752\n",
      "Epoch 13/20\n",
      "376/376 [==============================] - 0s 1ms/step - loss: 28.2441 - mean_squared_error: 28.2441\n",
      "Epoch 14/20\n",
      "376/376 [==============================] - 0s 1ms/step - loss: 22.2434 - mean_squared_error: 22.2434\n",
      "Epoch 15/20\n",
      "376/376 [==============================] - 0s 1ms/step - loss: 17.2951 - mean_squared_error: 17.2951\n",
      "Epoch 16/20\n",
      "376/376 [==============================] - 0s 970us/step - loss: 13.1509 - mean_squared_error: 13.1509\n",
      "Epoch 17/20\n",
      "376/376 [==============================] - 0s 974us/step - loss: 10.1329 - mean_squared_error: 10.1329\n",
      "Epoch 18/20\n",
      "376/376 [==============================] - 0s 1ms/step - loss: 7.7545 - mean_squared_error: 7.7545\n",
      "Epoch 19/20\n",
      "376/376 [==============================] - 0s 934us/step - loss: 6.1277 - mean_squared_error: 6.1277\n",
      "Epoch 20/20\n",
      "376/376 [==============================] - 0s 950us/step - loss: 4.8768 - mean_squared_error: 4.8768\n"
     ]
    },
    {
     "data": {
      "text/plain": [
       "<keras.callbacks.History at 0x1ee433ad790>"
      ]
     },
     "execution_count": 27,
     "metadata": {},
     "output_type": "execute_result"
    }
   ],
   "source": [
    "# Fit the model\n",
    "model1.fit(X_train, Y_train, epochs=20)"
   ]
  },
  {
   "cell_type": "markdown",
   "id": "2be4e2f1",
   "metadata": {},
   "source": [
    "## Model Testing"
   ]
  },
  {
   "cell_type": "code",
   "execution_count": 28,
   "id": "b9f6a3cc",
   "metadata": {},
   "outputs": [],
   "source": [
    "#  prediction using training dataset\n",
    "y_pedict_train1 = model1.predict(X_train)"
   ]
  },
  {
   "cell_type": "code",
   "execution_count": 30,
   "id": "0893c49c",
   "metadata": {},
   "outputs": [],
   "source": [
    "# prediction using testing dataset\n",
    "y_pedict_test1 = model1.predict(X_test)"
   ]
  },
  {
   "cell_type": "markdown",
   "id": "935bebbd",
   "metadata": {},
   "source": [
    "## Model Evaluation"
   ]
  },
  {
   "cell_type": "code",
   "execution_count": 32,
   "id": "b5b4f3c4",
   "metadata": {},
   "outputs": [
    {
     "name": "stdout",
     "output_type": "stream",
     "text": [
      "2.0933301823981685\n"
     ]
    }
   ],
   "source": [
    "print(np.sqrt(mean_squared_error(Y_train,y_pedict_train1)))"
   ]
  },
  {
   "cell_type": "code",
   "execution_count": 33,
   "id": "39121a9c",
   "metadata": {},
   "outputs": [
    {
     "name": "stdout",
     "output_type": "stream",
     "text": [
      "2.217993303371691\n"
     ]
    }
   ],
   "source": [
    "print(np.sqrt(mean_squared_error(Y_test,y_pedict_test1))) "
   ]
  },
  {
   "cell_type": "markdown",
   "id": "5b9f7596",
   "metadata": {},
   "source": [
    "### OBSERVATION \n",
    "\n",
    "Our model is achieving a stable performance with not much variance in the train and test set RMSE."
   ]
  },
  {
   "cell_type": "markdown",
   "id": "6a60a653",
   "metadata": {},
   "source": [
    "##   CONCLUSION \n",
    "\n",
    "* Second model is better as the error is very less compared to first one"
   ]
  },
  {
   "cell_type": "code",
   "execution_count": null,
   "id": "6ebf9d98",
   "metadata": {},
   "outputs": [],
   "source": []
  }
 ],
 "metadata": {
  "kernelspec": {
   "display_name": "Python 3",
   "language": "python",
   "name": "python3"
  },
  "language_info": {
   "codemirror_mode": {
    "name": "ipython",
    "version": 3
   },
   "file_extension": ".py",
   "mimetype": "text/x-python",
   "name": "python",
   "nbconvert_exporter": "python",
   "pygments_lexer": "ipython3",
   "version": "3.8.8"
  }
 },
 "nbformat": 4,
 "nbformat_minor": 5
}
